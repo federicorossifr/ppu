{
 "cells": [
  {
   "cell_type": "code",
   "execution_count": 13,
   "metadata": {},
   "outputs": [
    {
     "name": "stdout",
     "output_type": "stream",
     "text": [
      "Mon Mar 14 19:34:27 CET 2022\r\n"
     ]
    }
   ],
   "source": [
    "!date"
   ]
  },
  {
   "cell_type": "code",
   "execution_count": 1,
   "metadata": {},
   "outputs": [
    {
     "data": {
      "text/plain": [
       "'3.0.1'"
      ]
     },
     "execution_count": 1,
     "metadata": {},
     "output_type": "execute_result"
    }
   ],
   "source": [
    "import fixed2float\n",
    "from fixed2float import Fx, to_Fx\n",
    "\n",
    "fixed2float.__version__"
   ]
  },
  {
   "cell_type": "code",
   "execution_count": 2,
   "metadata": {},
   "outputs": [],
   "source": [
    "LUT_IN = 8\n",
    "LUT_OUT = 9\n",
    "\n",
    "N, ES = 16, 1"
   ]
  },
  {
   "cell_type": "code",
   "execution_count": 3,
   "metadata": {},
   "outputs": [
    {
     "data": {
      "text/plain": [
       "\u001b[37;41m0\u001b[30;43m1110\u001b[37;44m0\u001b[37;40m0000101000\u001b[0m P<16,1>(28712) 16.625"
      ]
     },
     "execution_count": 3,
     "metadata": {},
     "output_type": "execute_result"
    }
   ],
   "source": [
    "# let's say we have this posit\n",
    "\n",
    "from hardposit import from_bits\n",
    "\n",
    "a = from_bits(0b0111000000101000, N, ES)\n",
    "a"
   ]
  },
  {
   "cell_type": "markdown",
   "metadata": {},
   "source": [
    "#### Beware\n",
    "\n",
    "The following does not consider the only special case\n",
    "where the fractional bits are zero\n",
    "that corresponds to a mantissa value of 1.0 whose reciprocate is 1.0,\n",
    "which does not fit the format Fx<0, LUT_OUT>"
   ]
  },
  {
   "cell_type": "code",
   "execution_count": 4,
   "metadata": {},
   "outputs": [
    {
     "data": {
      "text/plain": [
       "(\u001b[45m1\u001b[37;40m0000101000000\u001b[0m, 1.0390625, 8512)"
      ]
     },
     "execution_count": 4,
     "metadata": {},
     "output_type": "execute_result"
    }
   ],
   "source": [
    "fp_mant_a = Fx(a.mant_repr().unwrap(), 1, N - 2)\n",
    "\n",
    "fp_mant_a, fp_mant_a.eval(), fp_mant_a.val"
   ]
  },
  {
   "cell_type": "code",
   "execution_count": 5,
   "metadata": {},
   "outputs": [
    {
     "data": {
      "text/plain": [
       "(\u001b[45m\u001b[37;40m00001010\u001b[0m, 0.0390625, 10)"
      ]
     },
     "execution_count": 5,
     "metadata": {},
     "output_type": "execute_result"
    }
   ],
   "source": [
    "# now we trim the mantissa to N bits and remove the \"1.\" which provides to additional information\n",
    "\n",
    "fp_frac_a_N_bits = to_Fx(\n",
    "    x=fp_mant_a.eval() - 1,\n",
    "    m=0,\n",
    "    b=LUT_IN,\n",
    "    round=True,\n",
    ")\n",
    "\n",
    "fp_frac_a_N_bits, fp_frac_a_N_bits.eval(), fp_frac_a_N_bits.val"
   ]
  },
  {
   "cell_type": "code",
   "execution_count": null,
   "metadata": {},
   "outputs": [],
   "source": []
  },
  {
   "cell_type": "code",
   "execution_count": 6,
   "metadata": {},
   "outputs": [
    {
     "data": {
      "text/plain": [
       "10"
      ]
     },
     "execution_count": 6,
     "metadata": {},
     "output_type": "execute_result"
    }
   ],
   "source": [
    "# so the value that actually enters the LUT is:\n",
    "\n",
    "fp_frac_a_N_bits.val"
   ]
  },
  {
   "cell_type": "code",
   "execution_count": 7,
   "metadata": {},
   "outputs": [
    {
     "data": {
      "text/plain": [
       "(\u001b[45m1\u001b[37;40m0000101000000\u001b[0m, 1.0390625)"
      ]
     },
     "execution_count": 7,
     "metadata": {},
     "output_type": "execute_result"
    }
   ],
   "source": [
    "fp_mant_a, fp_mant_a.eval()"
   ]
  },
  {
   "cell_type": "code",
   "execution_count": 8,
   "metadata": {},
   "outputs": [
    {
     "data": {
      "text/plain": [
       "\u001b[45m0\u001b[37;40m111101101...\u001b[0m"
      ]
     },
     "execution_count": 8,
     "metadata": {},
     "output_type": "execute_result"
    }
   ],
   "source": [
    "fp_mant_a_recip1 = to_Fx(\n",
    "    x=1.0 / fp_mant_a.eval(),\n",
    "    m=1,\n",
    "    b=1 + LUT_OUT,\n",
    "    round=True,\n",
    ")\n",
    "\n",
    "fp_mant_a_recip1"
   ]
  },
  {
   "cell_type": "code",
   "execution_count": 9,
   "metadata": {},
   "outputs": [
    {
     "data": {
      "text/plain": [
       "(0.9624060150375939, 0.962890625)"
      ]
     },
     "execution_count": 9,
     "metadata": {},
     "output_type": "execute_result"
    }
   ],
   "source": [
    "# most precise vs (1+LUT_OUT)-bits precise\n",
    "\n",
    "1.0 / fp_mant_a.eval(), fp_mant_a_recip1.eval()"
   ]
  },
  {
   "cell_type": "code",
   "execution_count": 10,
   "metadata": {},
   "outputs": [
    {
     "data": {
      "text/plain": [
       "\u001b[45m\u001b[37;40m111101101\u001b[0m"
      ]
     },
     "execution_count": 10,
     "metadata": {},
     "output_type": "execute_result"
    }
   ],
   "source": [
    "to_Fx(fp_mant_a_recip1.eval(), 0, LUT_OUT, round=True)"
   ]
  },
  {
   "cell_type": "code",
   "execution_count": 11,
   "metadata": {},
   "outputs": [
    {
     "data": {
      "text/plain": [
       "493"
      ]
     },
     "execution_count": 11,
     "metadata": {},
     "output_type": "execute_result"
    }
   ],
   "source": [
    "_.val"
   ]
  }
 ],
 "metadata": {
  "kernelspec": {
   "display_name": "Python 3.10.5 64-bit ('3.10.5')",
   "language": "python",
   "name": "python3"
  },
  "language_info": {
   "codemirror_mode": {
    "name": "ipython",
    "version": 3
   },
   "file_extension": ".py",
   "mimetype": "text/x-python",
   "name": "python",
   "nbconvert_exporter": "python",
   "pygments_lexer": "ipython3",
   "version": "3.10.5"
  },
  "varInspector": {
   "cols": {
    "lenName": 16,
    "lenType": 16,
    "lenVar": 40
   },
   "kernels_config": {
    "python": {
     "delete_cmd_postfix": "",
     "delete_cmd_prefix": "del ",
     "library": "var_list.py",
     "varRefreshCmd": "print(var_dic_list())"
    },
    "r": {
     "delete_cmd_postfix": ") ",
     "delete_cmd_prefix": "rm(",
     "library": "var_list.r",
     "varRefreshCmd": "cat(var_dic_list()) "
    }
   },
   "types_to_exclude": [
    "module",
    "function",
    "builtin_function_or_method",
    "instance",
    "_Feature"
   ],
   "window_display": false
  },
  "vscode": {
   "interpreter": {
    "hash": "1d2448ed5442961e26ff114f079d176691f979eb3619824ea14937e30e862494"
   }
  }
 },
 "nbformat": 4,
 "nbformat_minor": 2
}
