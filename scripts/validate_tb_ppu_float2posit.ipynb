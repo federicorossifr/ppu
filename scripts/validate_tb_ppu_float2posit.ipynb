{
 "cells": [
  {
   "cell_type": "code",
   "execution_count": 137,
   "id": "5b114462",
   "metadata": {},
   "outputs": [],
   "source": [
    "from hardposit.float import F32, F16\n",
    "\n",
    "import os\n",
    "import hardposit as hp\n",
    "import softposit as sp\n",
    "import fixed2float as fi\n",
    "from pathlib import Path\n",
    "import re\n",
    "import ast"
   ]
  },
  {
   "cell_type": "code",
   "execution_count": 138,
   "id": "77c69a6e",
   "metadata": {},
   "outputs": [],
   "source": [
    "N, ES = 16, 1"
   ]
  },
  {
   "cell_type": "code",
   "execution_count": 155,
   "id": "0943a012",
   "metadata": {},
   "outputs": [
    {
     "data": {
      "text/plain": [
       "(\u001b[37;41m0\u001b[37;44m10001101\u001b[37;40m10111111001100110001101\u001b[0m F32(1189058957) 28620.775390625,\n",
       " '0x46df998d',\n",
       " 141,\n",
       " 127)"
      ]
     },
     "execution_count": 155,
     "metadata": {},
     "output_type": "execute_result"
    }
   ],
   "source": [
    "f1 = F32(bits=0x46df998d)\n",
    "f1, f1.to_hex(), f1.exp, f1.exp_bias"
   ]
  },
  {
   "cell_type": "code",
   "execution_count": 158,
   "id": "28f2994d",
   "metadata": {},
   "outputs": [
    {
     "data": {
      "text/plain": [
       "\u001b[37;41m0\u001b[30;43m11110\u001b[37;44m1\u001b[37;40m010111111\u001b[0m P<16,1>(31423) 175.75"
      ]
     },
     "execution_count": 158,
     "metadata": {},
     "output_type": "execute_result"
    }
   ],
   "source": [
    "hp.from_bits(0x7abf, N, ES)"
   ]
  },
  {
   "cell_type": "code",
   "execution_count": 157,
   "id": "80259e76",
   "metadata": {},
   "outputs": [
    {
     "data": {
      "text/plain": [
       "(\u001b[37;41m0\u001b[30;43m111111110\u001b[37;44m0\u001b[37;40m11000\u001b[0m P<16,1>(32664) 28672.0,\n",
       " '0x7f98')"
      ]
     },
     "execution_count": 157,
     "metadata": {},
     "output_type": "execute_result"
    }
   ],
   "source": [
    "p = hp.from_double(f1.eval(), N, ES)\n",
    "p, p.to_hex()"
   ]
  },
  {
   "cell_type": "code",
   "execution_count": 142,
   "id": "51e08909",
   "metadata": {},
   "outputs": [
    {
     "name": "stdout",
     "output_type": "stream",
     "text": [
      "(0x12153524, 0xxxxx, 0x00007fe5)\n",
      "(0xc0895e81, 0xxxxx, 0x00000001)\n",
      "(0x8484d609, 0xxxxx, 0x00000001)\n",
      "(0xb1f05663, 0xxxxx, 0x0000009c)\n",
      "(0x06b97b0d, 0xxxxx, 0x00007a73)\n",
      "(0x46df998d, 0xxxxx, 0x00007abf)\n",
      "(0xb2c28465, 0xxxxx, 0x000000d1)\n",
      "(0x89375212, 0xxxxx, 0x00000001)\n",
      "(0x00f3e301, 0xxxxx, 0x0000573e)\n",
      "(0x06d7cd0d, 0xxxxx, 0x00007ab0)\n",
      "(0x3b23f176, 0xxxxx, 0x00007fff)\n",
      "(0x1e8dcd3d, 0xxxxx, 0x00007fff)\n",
      "(0x76d457ed, 0xxxxx, 0x00007fff)\n",
      "(0x462df78c, 0xxxxx, 0x0000795c)\n",
      "(0x7cfde9f9, 0xxxxx, 0x00007fff)\n",
      "(0xe33724c6, 0xxxxx, 0x00000001)\n",
      "(0xe2f784c5, 0xxxxx, 0x00000001)\n",
      "(0xd513d2aa, 0xxxxx, 0x00000001)\n",
      "(0x72aff7e5, 0xxxxx, 0x00007fff)\n",
      "(0xbbd27277, 0xxxxx, 0x00001294)\n",
      "(0x8932d612, 0xxxxx, 0x00000001)\n",
      "(0x47ecdb8f, 0xxxxx, 0x00007c6d)\n",
      "(0x793069f2, 0xxxxx, 0x00007fff)\n",
      "(0xe77696ce, 0xxxxx, 0x00000004)\n",
      "(0xf4007ae8, 0xxxxx, 0x00000140)\n",
      "(0xe2ca4ec5, 0xxxxx, 0x00000001)\n",
      "(0x2e58495c, 0xxxxx, 0x00007fff)\n",
      "(0xde8e28bd, 0xxxxx, 0x00000001)\n",
      "(0x96ab582d, 0xxxxx, 0x00000001)\n",
      "(0xb2a72665, 0xxxxx, 0x000000ca)\n",
      "\n"
     ]
    }
   ],
   "source": [
    "with open(Path(\"../tb_ppu.log\"), 'r') as f:\n",
    "  log = f.read()\n",
    "print(log)"
   ]
  },
  {
   "cell_type": "code",
   "execution_count": 143,
   "id": "f772307d",
   "metadata": {},
   "outputs": [],
   "source": [
    "lst = list(map(lambda l: ast.literal_eval(l.replace('0xxxxx,', '0x0,')), log.splitlines()))"
   ]
  },
  {
   "cell_type": "code",
   "execution_count": 144,
   "id": "fad8ffef",
   "metadata": {},
   "outputs": [],
   "source": [
    "operand1_i, _, result_o = list(zip(*lst))"
   ]
  },
  {
   "cell_type": "code",
   "execution_count": 145,
   "id": "bd731891",
   "metadata": {},
   "outputs": [
    {
     "data": {
      "text/plain": [
       "((303379748,\n",
       "  3230228097,\n",
       "  2223298057,\n",
       "  2985317987,\n",
       "  112818957,\n",
       "  1189058957,\n",
       "  2999092325,\n",
       "  2302104082,\n",
       "  15983361,\n",
       "  114806029,\n",
       "  992211318,\n",
       "  512609597,\n",
       "  1993627629,\n",
       "  1177417612,\n",
       "  2097015289,\n",
       "  3812041926,\n",
       "  3807872197,\n",
       "  3574846122,\n",
       "  1924134885,\n",
       "  3151131255,\n",
       "  2301810194,\n",
       "  1206705039,\n",
       "  2033215986,\n",
       "  3883308750,\n",
       "  4093672168,\n",
       "  3804909253,\n",
       "  777537884,\n",
       "  3733858493,\n",
       "  2527811629,\n",
       "  2997298789),\n",
       " (32741,\n",
       "  1,\n",
       "  1,\n",
       "  156,\n",
       "  31347,\n",
       "  31423,\n",
       "  209,\n",
       "  1,\n",
       "  22334,\n",
       "  31408,\n",
       "  32767,\n",
       "  32767,\n",
       "  32767,\n",
       "  31068,\n",
       "  32767,\n",
       "  1,\n",
       "  1,\n",
       "  1,\n",
       "  32767,\n",
       "  4756,\n",
       "  1,\n",
       "  31853,\n",
       "  32767,\n",
       "  4,\n",
       "  320,\n",
       "  1,\n",
       "  32767,\n",
       "  1,\n",
       "  1,\n",
       "  202))"
      ]
     },
     "execution_count": 145,
     "metadata": {},
     "output_type": "execute_result"
    }
   ],
   "source": [
    "operand1_i, result_o"
   ]
  },
  {
   "cell_type": "code",
   "execution_count": 146,
   "id": "6b5f5a5b",
   "metadata": {},
   "outputs": [
    {
     "data": {
      "text/plain": [
       "[1,\n",
       " 40810,\n",
       " 65535,\n",
       " 65535,\n",
       " 1,\n",
       " 32664,\n",
       " 65533,\n",
       " 65535,\n",
       " 1,\n",
       " 1,\n",
       " 840,\n",
       " 1,\n",
       " 32767,\n",
       " 32599,\n",
       " 32767,\n",
       " 32769,\n",
       " 32769,\n",
       " 32769,\n",
       " 32767,\n",
       " 64182,\n",
       " 65535,\n",
       " 32718,\n",
       " 32767,\n",
       " 32769,\n",
       " 32769,\n",
       " 32769,\n",
       " 1,\n",
       " 32769,\n",
       " 65535,\n",
       " 65534]"
      ]
     },
     "execution_count": 146,
     "metadata": {},
     "output_type": "execute_result"
    }
   ],
   "source": [
    "hardposit_result = list(map(\n",
    "  lambda bits1: hp.from_double(F32(bits=bits1).eval(), N, ES).to_bits(),\n",
    "  operand1_i\n",
    "))\n",
    "\n",
    "hardposit_result"
   ]
  },
  {
   "cell_type": "code",
   "execution_count": 147,
   "id": "c8a74f29",
   "metadata": {},
   "outputs": [
    {
     "data": {
      "text/plain": [
       "[False,\n",
       " False,\n",
       " False,\n",
       " False,\n",
       " False,\n",
       " False,\n",
       " False,\n",
       " False,\n",
       " False,\n",
       " False,\n",
       " False,\n",
       " False,\n",
       " True,\n",
       " False,\n",
       " True,\n",
       " False,\n",
       " False,\n",
       " False,\n",
       " True,\n",
       " False,\n",
       " False,\n",
       " False,\n",
       " True,\n",
       " False,\n",
       " False,\n",
       " False,\n",
       " False,\n",
       " False,\n",
       " False,\n",
       " False]"
      ]
     },
     "execution_count": 147,
     "metadata": {},
     "output_type": "execute_result"
    }
   ],
   "source": [
    "list(map(lambda val1, val2: val1 == val2, result_o, hardposit_result))"
   ]
  },
  {
   "cell_type": "code",
   "execution_count": 148,
   "id": "9ed81855",
   "metadata": {},
   "outputs": [
    {
     "ename": "AssertionError",
     "evalue": "",
     "output_type": "error",
     "traceback": [
      "\u001b[0;31m---------------------------------------------------------------------------\u001b[0m",
      "\u001b[0;31mAssertionError\u001b[0m                            Traceback (most recent call last)",
      "Cell \u001b[0;32mIn[148], line 1\u001b[0m\n\u001b[0;32m----> 1\u001b[0m \u001b[38;5;28;01massert\u001b[39;00m \u001b[38;5;28mall\u001b[39m(_) \u001b[38;5;241m==\u001b[39m \u001b[38;5;28;01mTrue\u001b[39;00m\n\u001b[1;32m      2\u001b[0m \u001b[38;5;28mprint\u001b[39m(\u001b[38;5;124m\"\u001b[39m\u001b[38;5;124mCongratulation, it works.\u001b[39m\u001b[38;5;124m\"\u001b[39m)\n",
      "\u001b[0;31mAssertionError\u001b[0m: "
     ]
    }
   ],
   "source": [
    "assert all(_) == True\n",
    "print(\"Congratulation, it works.\")"
   ]
  },
  {
   "cell_type": "code",
   "execution_count": null,
   "id": "557c9148",
   "metadata": {},
   "outputs": [],
   "source": []
  }
 ],
 "metadata": {
  "kernelspec": {
   "display_name": "Python 3 (ipykernel)",
   "language": "python",
   "name": "python3"
  },
  "language_info": {
   "codemirror_mode": {
    "name": "ipython",
    "version": 3
   },
   "file_extension": ".py",
   "mimetype": "text/x-python",
   "name": "python",
   "nbconvert_exporter": "python",
   "pygments_lexer": "ipython3",
   "version": "3.11.1"
  }
 },
 "nbformat": 4,
 "nbformat_minor": 5
}
