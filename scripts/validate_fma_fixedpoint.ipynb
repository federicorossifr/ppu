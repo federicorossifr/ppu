{
 "cells": [
  {
   "cell_type": "code",
   "execution_count": 65,
   "id": "597df19d",
   "metadata": {},
   "outputs": [],
   "source": [
    "import os\n",
    "from hardposit import from_bits, from_double\n",
    "from fixed2float import Fx\n",
    "from pathlib import Path\n",
    "import re"
   ]
  },
  {
   "cell_type": "code",
   "execution_count": 66,
   "id": "96a8e61f",
   "metadata": {},
   "outputs": [],
   "source": [
    "with open(Path(\"../tb_core_op_fma.log\"), 'r') as f:\n",
    "    log = f.read()"
   ]
  },
  {
   "cell_type": "code",
   "execution_count": 67,
   "id": "145dd8bb",
   "metadata": {},
   "outputs": [
    {
     "name": "stdout",
     "output_type": "stream",
     "text": [
      "['0x6a00', '(0x4800, 0x6c80) 0x00000000a000000000000000000000000', '(0x4800, 0x6c80) 0x00000001cc00000000000000000000000', '(0x4800, 0x6c80) 0x00000002f800000000000000000000000', '(0x4800, 0x6c80) 0x000000042400000000000000000000000', '(0x4800, 0x6c80) 0x000000055000000000000000000000000', '(0x4800, 0x6c80) 0x000000067c00000000000000000000000', '(0x4800, 0x6c80) 0x00000007a800000000000000000000000', '(0x4800, 0x6c80) 0x00000008d400000000000000000000000', '(0x4800, 0x6c80) 0x0000000a0000000000000000000000000', '(0x4800, 0x6c80) 0x0000000b2c00000000000000000000000', '(0x4800, 0x6c80) 0x0000000c5800000000000000000000000', '(0x4800, 0x6c80) 0x0000000d8400000000000000000000000', '(0x4800, 0x6c80) 0x0000000eb000000000000000000000000', '(0x4800, 0x6c80) 0x0000000fdc00000000000000000000000', '(0x4800, 0x6c80) 0x000000110800000000000000000000000', '(0x4800, 0x6c80) 0x000000123400000000000000000000000', '(0x4800, 0x6c80) 0x000000136000000000000000000000000', '(0x4800, 0x6c80) 0x000000148c00000000000000000000000', '(0x4800, 0x6c80) 0x00000015b800000000000000000000000', '(0x4800, 0x6c80) 0x00000016e400000000000000000000000']\n"
     ]
    }
   ],
   "source": [
    "logs = log.splitlines()\n",
    "print(logs)"
   ]
  },
  {
   "cell_type": "code",
   "execution_count": 68,
   "id": "e39f1b76",
   "metadata": {},
   "outputs": [],
   "source": [
    "N, ES = 16, 1\n",
    "FX_M, FX_N = 32, 128"
   ]
  },
  {
   "cell_type": "code",
   "execution_count": null,
   "id": "60ac7cc9",
   "metadata": {},
   "outputs": [],
   "source": []
  },
  {
   "cell_type": "code",
   "execution_count": 69,
   "id": "0a5d90f4",
   "metadata": {},
   "outputs": [
    {
     "name": "stdout",
     "output_type": "stream",
     "text": [
      "385.0\n",
      "366.25\n"
     ]
    }
   ],
   "source": [
    "pattern = r\"0x[0-9a-z]+\"\n",
    "\n",
    "acc = 0\n",
    "for item in logs:\n",
    "    results = re.findall(pattern, item)\n",
    "    if len(results) == 1:\n",
    "        p3 = from_bits(int(results[0], 16), N, ES)\n",
    "        acc += p3.eval()\n",
    "    else:\n",
    "        p1 = from_bits(int(results[0], 16), N, ES)\n",
    "        p2 = from_bits(int(results[1], 16), N, ES)\n",
    "        fixed = Fx(int(results[2], 16), FX_M, FX_N)\n",
    "        acc += p1.eval() * p2.eval()\n",
    "\n",
    "print(acc)\n",
    "print(fixed.eval())"
   ]
  },
  {
   "cell_type": "code",
   "execution_count": 70,
   "id": "8c872851",
   "metadata": {},
   "outputs": [
    {
     "data": {
      "text/plain": [
       "366.25"
      ]
     },
     "execution_count": 70,
     "metadata": {},
     "output_type": "execute_result"
    }
   ],
   "source": [
    "10 + 19*(12.5 * 1.5)"
   ]
  },
  {
   "cell_type": "code",
   "execution_count": null,
   "id": "c452ea08",
   "metadata": {},
   "outputs": [],
   "source": []
  }
 ],
 "metadata": {
  "kernelspec": {
   "display_name": "Python 3 (ipykernel)",
   "language": "python",
   "name": "python3"
  },
  "language_info": {
   "codemirror_mode": {
    "name": "ipython",
    "version": 3
   },
   "file_extension": ".py",
   "mimetype": "text/x-python",
   "name": "python",
   "nbconvert_exporter": "python",
   "pygments_lexer": "ipython3",
   "version": "3.11.1"
  },
  "varInspector": {
   "cols": {
    "lenName": 16,
    "lenType": 16,
    "lenVar": 40
   },
   "kernels_config": {
    "python": {
     "delete_cmd_postfix": "",
     "delete_cmd_prefix": "del ",
     "library": "var_list.py",
     "varRefreshCmd": "print(var_dic_list())"
    },
    "r": {
     "delete_cmd_postfix": ") ",
     "delete_cmd_prefix": "rm(",
     "library": "var_list.r",
     "varRefreshCmd": "cat(var_dic_list()) "
    }
   },
   "types_to_exclude": [
    "module",
    "function",
    "builtin_function_or_method",
    "instance",
    "_Feature"
   ],
   "window_display": false
  }
 },
 "nbformat": 4,
 "nbformat_minor": 5
}
