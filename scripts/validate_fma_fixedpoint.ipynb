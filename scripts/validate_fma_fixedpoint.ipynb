{
 "cells": [
  {
   "cell_type": "code",
   "execution_count": 1,
   "id": "597df19d",
   "metadata": {},
   "outputs": [],
   "source": [
    "import os\n",
    "import hardposit as hp\n",
    "import fixed2float as fi\n",
    "from pathlib import Path\n",
    "import re"
   ]
  },
  {
   "cell_type": "code",
   "execution_count": 2,
   "id": "ba4bd9d4",
   "metadata": {},
   "outputs": [
    {
     "name": "stdout",
     "output_type": "stream",
     "text": [
      "Mon  8 May 2023 07:26:01 CEST\r\n"
     ]
    }
   ],
   "source": [
    "!date"
   ]
  },
  {
   "cell_type": "code",
   "execution_count": 3,
   "id": "28cdc21f",
   "metadata": {},
   "outputs": [
    {
     "data": {
      "text/plain": [
       "'4.0.0-rc1'"
      ]
     },
     "execution_count": 3,
     "metadata": {},
     "output_type": "execute_result"
    }
   ],
   "source": [
    "import fixed2float\n",
    "fixed2float.__version__"
   ]
  },
  {
   "cell_type": "code",
   "execution_count": 4,
   "id": "8067a399",
   "metadata": {},
   "outputs": [],
   "source": [
    "N, ES = 16, 1\n",
    "M, B = 31, 64"
   ]
  },
  {
   "cell_type": "code",
   "execution_count": 5,
   "id": "96a8e61f",
   "metadata": {},
   "outputs": [
    {
     "name": "stdout",
     "output_type": "stream",
     "text": [
      "0x6a00\n",
      "(0x3524, 0x5e81) 0x0000000c84df2400\n",
      "(0xd609, 0x5663) 0x0000000b623ce180\n",
      "(0x7b0d, 0x998d) 0xfffffa88c75ce180\n",
      "(0x8465, 0x5212) 0xfffff87f902ce180\n",
      "\n"
     ]
    }
   ],
   "source": [
    "with open(Path(\"../tb_core_op_fma.log\"), 'r') as f:\n",
    "    log = f.read()\n",
    "print(log)"
   ]
  },
  {
   "cell_type": "code",
   "execution_count": 6,
   "id": "145dd8bb",
   "metadata": {},
   "outputs": [
    {
     "name": "stdout",
     "output_type": "stream",
     "text": [
      "['0x6a00', '(0x3524, 0x5e81) 0x0000000c84df2400', '(0xd609, 0x5663) 0x0000000b623ce180', '(0x7b0d, 0x998d) 0xfffffa88c75ce180', '(0x8465, 0x5212) 0xfffff87f902ce180']\n"
     ]
    }
   ],
   "source": [
    "logs = log.splitlines()\n",
    "print(logs)"
   ]
  },
  {
   "cell_type": "code",
   "execution_count": 9,
   "id": "0a5d90f4",
   "metadata": {},
   "outputs": [
    {
     "name": "stdout",
     "output_type": "stream",
     "text": [
      "0.66064453125 3.81298828125 2.51904296875\n",
      "fixed=\u001b[37;41m0\u001b[45m0000000000000000000000000001100\u001b[37;40m10000100110111110010010000000000\u001b[0m Fx<31,64>(53768823808) 12.51902985572815\n",
      "acc=12.51902985572815\n",
      "-0.40570068359375 2.79833984375 -1.13525390625\n",
      "fixed=\u001b[37;41m0\u001b[45m0000000000000000000000000001011\u001b[37;40m01100010001111001110000110000000\u001b[0m Fx<31,64>(48892797312) 11.383741468191147\n",
      "acc=11.383741468191147\n",
      "195.25 -7.224609375 -1408.0\n",
      "fixed=\u001b[37;41m1\u001b[45m1111111111111111111101010001000\u001b[37;40m11000111010111001110000110000000\u001b[0m Fx<31,64>(18446738064100090240) -1399.2212390005589\n",
      "acc=-1399.2212390005589\n",
      "-230.75 2.2587890625 -522.0\n",
      "fixed=\u001b[37;41m1\u001b[45m1111111111111111111100001111111\u001b[37;40m10010000001011001110000110000000\u001b[0m Fx<31,64>(18446735825496236416) -1920.4368151724339\n",
      "acc=-1920.4368151724339\n"
     ]
    }
   ],
   "source": [
    "pattern = r\"0x[0-9a-z]+\"\n",
    "\n",
    "acc = 0\n",
    "for item in logs:\n",
    "    results = re.findall(pattern, item)\n",
    "    if len(results) == 1:\n",
    "        p3 = hp.from_bits(int(results[0], 16), N, ES)\n",
    "        acc += p3.eval()\n",
    "    else:\n",
    "        p1 = hp.from_bits(int(results[0], 16), N, ES)\n",
    "        p2 = hp.from_bits(int(results[1], 16), N, ES)\n",
    "        print(p1.eval(), p2.eval(), (p1*p2).eval())\n",
    "        \n",
    "        fixed = fi.from_bits(int(results[2], 16), M, B)\n",
    "        print(f\"{fixed=}\")\n",
    "        acc += p1.eval() * p2.eval()\n",
    "        print(f\"{acc=}\")\n",
    "\n",
    "        assert acc == fixed.eval()"
   ]
  }
 ],
 "metadata": {
  "kernelspec": {
   "display_name": "Python 3 (ipykernel)",
   "language": "python",
   "name": "python3"
  },
  "language_info": {
   "codemirror_mode": {
    "name": "ipython",
    "version": 3
   },
   "file_extension": ".py",
   "mimetype": "text/x-python",
   "name": "python",
   "nbconvert_exporter": "python",
   "pygments_lexer": "ipython3",
   "version": "3.11.1"
  },
  "varInspector": {
   "cols": {
    "lenName": 16,
    "lenType": 16,
    "lenVar": 40
   },
   "kernels_config": {
    "python": {
     "delete_cmd_postfix": "",
     "delete_cmd_prefix": "del ",
     "library": "var_list.py",
     "varRefreshCmd": "print(var_dic_list())"
    },
    "r": {
     "delete_cmd_postfix": ") ",
     "delete_cmd_prefix": "rm(",
     "library": "var_list.r",
     "varRefreshCmd": "cat(var_dic_list()) "
    }
   },
   "types_to_exclude": [
    "module",
    "function",
    "builtin_function_or_method",
    "instance",
    "_Feature"
   ],
   "window_display": false
  }
 },
 "nbformat": 4,
 "nbformat_minor": 5
}
