{
 "cells": [
  {
   "cell_type": "code",
   "execution_count": 4,
   "id": "5b114462",
   "metadata": {},
   "outputs": [],
   "source": [
    "from hardposit.float import F32\n",
    "\n",
    "import os\n",
    "import hardposit as hp\n",
    "import softposit as sp\n",
    "import fixed2float as fi\n",
    "from pathlib import Path\n",
    "import re\n",
    "import ast"
   ]
  },
  {
   "cell_type": "code",
   "execution_count": 5,
   "id": "77c69a6e",
   "metadata": {},
   "outputs": [],
   "source": [
    "N, ES = 16, 1"
   ]
  },
  {
   "cell_type": "code",
   "execution_count": 26,
   "id": "1d912674",
   "metadata": {},
   "outputs": [
    {
     "data": {
      "text/plain": [
       "\u001b[37;41m0\u001b[30;43m10\u001b[37;44m1\u001b[37;40m111010000001\u001b[0m P<16,1>(24193) 3.81298828125"
      ]
     },
     "execution_count": 26,
     "metadata": {},
     "output_type": "execute_result"
    }
   ],
   "source": [
    "p2 = hp.from_bits(0x5e81, N, ES)\n",
    "p2"
   ]
  },
  {
   "cell_type": "code",
   "execution_count": 27,
   "id": "0943a012",
   "metadata": {},
   "outputs": [
    {
     "data": {
      "text/plain": [
       "\u001b[37;41m0\u001b[37;44m10000000\u001b[37;40m11101000000100000000000\u001b[0m F32(1081346048) 3.81298828125"
      ]
     },
     "execution_count": 27,
     "metadata": {},
     "output_type": "execute_result"
    }
   ],
   "source": [
    "F32(x_f32 = p2.eval())"
   ]
  },
  {
   "cell_type": "code",
   "execution_count": 28,
   "id": "a4978dac",
   "metadata": {},
   "outputs": [
    {
     "ename": "AttributeError",
     "evalue": "'tuple' object has no attribute 'to_hex'",
     "output_type": "error",
     "traceback": [
      "\u001b[0;31m---------------------------------------------------------------------------\u001b[0m",
      "\u001b[0;31mAttributeError\u001b[0m                            Traceback (most recent call last)",
      "Cell \u001b[0;32mIn[28], line 1\u001b[0m\n\u001b[0;32m----> 1\u001b[0m \u001b[43m_\u001b[49m\u001b[38;5;241;43m.\u001b[39;49m\u001b[43mto_hex\u001b[49m()\n",
      "\u001b[0;31mAttributeError\u001b[0m: 'tuple' object has no attribute 'to_hex'"
     ]
    }
   ],
   "source": [
    "_.to_hex()"
   ]
  },
  {
   "cell_type": "code",
   "execution_count": 29,
   "id": "51e08909",
   "metadata": {},
   "outputs": [
    {
     "name": "stdout",
     "output_type": "stream",
     "text": [
      "(0x3524, 0x5e81, 0x40740800)\n",
      "(0xd609, 0x5663, 0x40331800)\n",
      "(0x7b0d, 0x998d, 0xc0e73000)\n",
      "(0x8465, 0x5212, 0x40109000)\n",
      "(0xe301, 0xcd0d, 0xbf179800)\n",
      "(0xf176, 0xcd3d, 0xbf161800)\n",
      "(0x57ed, 0xf78c, 0xbc8e8000)\n",
      "(0xe9f9, 0x24c6, 0x3ea63000)\n",
      "(0x84c5, 0xd2aa, 0xbeeab000)\n",
      "(0xf7e5, 0x7277, 0x41cee000)\n",
      "(0xd612, 0xdb8f, 0xbea38800)\n",
      "(0x69f2, 0x96ce, 0xc1132000)\n",
      "(0x7ae8, 0x4ec5, 0x3ff62800)\n",
      "(0x495c, 0x28bd, 0x3ec5e800)\n",
      "(0x582d, 0x2665, 0x3eb32800)\n",
      "(0x6263, 0x870a, 0xc2bd8000)\n",
      "(0x2280, 0x2120, 0x3e890000)\n",
      "(0x45aa, 0xcc9d, 0xbf1b1800)\n",
      "(0x3e96, 0xb813, 0xbfbf6800)\n",
      "(0x380d, 0xd653, 0xbecd6800)\n",
      "(0xdd6b, 0x2ad5, 0x3ed6a800)\n",
      "(0x4a02, 0x3eae, 0x3f757000)\n",
      "(0xe91d, 0x72cf, 0x41d9e000)\n",
      "(0x4923, 0x650a, 0x40d0a000)\n",
      "(0x0aca, 0x4c3c, 0x3fe1e000)\n",
      "(0xbdf2, 0x618a, 0x4098a000)\n",
      "(0xb341, 0x34d8, 0x3f26c000)\n",
      "(0xf378, 0x1289, 0x3da89000)\n",
      "(0x0deb, 0x65b6, 0x40db6000)\n",
      "(0xf9c6, 0x13ae, 0x3dbae000)\n",
      "\n"
     ]
    }
   ],
   "source": [
    "with open(Path(\"../tb_ppu.log\"), 'r') as f:\n",
    "  log = f.read()\n",
    "print(log)"
   ]
  },
  {
   "cell_type": "code",
   "execution_count": 30,
   "id": "f772307d",
   "metadata": {},
   "outputs": [],
   "source": [
    "lst = list(map(lambda l: ast.literal_eval(l), log.splitlines()))"
   ]
  },
  {
   "cell_type": "code",
   "execution_count": 31,
   "id": "fad8ffef",
   "metadata": {},
   "outputs": [],
   "source": [
    "_, operand2_i, result_o = list(zip(*lst))"
   ]
  },
  {
   "cell_type": "code",
   "execution_count": 32,
   "id": "bd731891",
   "metadata": {},
   "outputs": [
    {
     "data": {
      "text/plain": [
       "((24193,\n",
       "  22115,\n",
       "  39309,\n",
       "  21010,\n",
       "  52493,\n",
       "  52541,\n",
       "  63372,\n",
       "  9414,\n",
       "  53930,\n",
       "  29303,\n",
       "  56207,\n",
       "  38606,\n",
       "  20165,\n",
       "  10429,\n",
       "  9829,\n",
       "  34570,\n",
       "  8480,\n",
       "  52381,\n",
       "  47123,\n",
       "  54867,\n",
       "  10965,\n",
       "  16046,\n",
       "  29391,\n",
       "  25866,\n",
       "  19516,\n",
       "  24970,\n",
       "  13528,\n",
       "  4745,\n",
       "  26038,\n",
       "  5038),\n",
       " (1081346048,\n",
       "  1077090304,\n",
       "  3236376576,\n",
       "  1074827264,\n",
       "  3205994496,\n",
       "  3205896192,\n",
       "  3163455488,\n",
       "  1051078656,\n",
       "  3203051520,\n",
       "  1104076800,\n",
       "  3198388224,\n",
       "  3239256064,\n",
       "  1073096704,\n",
       "  1053157376,\n",
       "  1051928576,\n",
       "  3267198976,\n",
       "  1049165824,\n",
       "  3206223872,\n",
       "  3216992256,\n",
       "  3201132544,\n",
       "  1054255104,\n",
       "  1064660992,\n",
       "  1104797696,\n",
       "  1087414272,\n",
       "  1071767552,\n",
       "  1083744256,\n",
       "  1059504128,\n",
       "  1034457088,\n",
       "  1088118784,\n",
       "  1035657216))"
      ]
     },
     "execution_count": 32,
     "metadata": {},
     "output_type": "execute_result"
    }
   ],
   "source": [
    "operand2_i, result_o"
   ]
  },
  {
   "cell_type": "code",
   "execution_count": 33,
   "id": "6b5f5a5b",
   "metadata": {},
   "outputs": [
    {
     "data": {
      "text/plain": [
       "[1081346048,\n",
       " 1077090304,\n",
       " 3236376576,\n",
       " 1074827264,\n",
       " 3205994496,\n",
       " 3205896192,\n",
       " 3163455488,\n",
       " 1051078656,\n",
       " 3203051520,\n",
       " 1104076800,\n",
       " 3198388224,\n",
       " 3239256064,\n",
       " 1073096704,\n",
       " 1053157376,\n",
       " 1051928576,\n",
       " 3267198976,\n",
       " 1049165824,\n",
       " 3206223872,\n",
       " 3216992256,\n",
       " 3201132544,\n",
       " 1054255104,\n",
       " 1064660992,\n",
       " 1104797696,\n",
       " 1087414272,\n",
       " 1071767552,\n",
       " 1083744256,\n",
       " 1059504128,\n",
       " 1034457088,\n",
       " 1088118784,\n",
       " 1035657216]"
      ]
     },
     "execution_count": 33,
     "metadata": {},
     "output_type": "execute_result"
    }
   ],
   "source": [
    "hardposit_result = list(map(\n",
    "  lambda bits2: F32(x_f32 = hp.from_bits(bits2, N, ES).eval()).to_bits(),\n",
    "  operand2_i\n",
    "))\n",
    "\n",
    "hardposit_result"
   ]
  },
  {
   "cell_type": "code",
   "execution_count": 34,
   "id": "c8a74f29",
   "metadata": {},
   "outputs": [
    {
     "data": {
      "text/plain": [
       "[True,\n",
       " True,\n",
       " True,\n",
       " True,\n",
       " True,\n",
       " True,\n",
       " True,\n",
       " True,\n",
       " True,\n",
       " True,\n",
       " True,\n",
       " True,\n",
       " True,\n",
       " True,\n",
       " True,\n",
       " True,\n",
       " True,\n",
       " True,\n",
       " True,\n",
       " True,\n",
       " True,\n",
       " True,\n",
       " True,\n",
       " True,\n",
       " True,\n",
       " True,\n",
       " True,\n",
       " True,\n",
       " True,\n",
       " True]"
      ]
     },
     "execution_count": 34,
     "metadata": {},
     "output_type": "execute_result"
    }
   ],
   "source": [
    "list(map(lambda val1, val2: val1 == val2, result_o, hardposit_result))"
   ]
  },
  {
   "cell_type": "code",
   "execution_count": 35,
   "id": "9ed81855",
   "metadata": {},
   "outputs": [
    {
     "name": "stdout",
     "output_type": "stream",
     "text": [
      "Congratulation, it works.\n"
     ]
    }
   ],
   "source": [
    "assert all(_) == True\n",
    "print(\"Congratulation, it works.\")"
   ]
  }
 ],
 "metadata": {
  "kernelspec": {
   "display_name": "Python 3 (ipykernel)",
   "language": "python",
   "name": "python3"
  },
  "language_info": {
   "codemirror_mode": {
    "name": "ipython",
    "version": 3
   },
   "file_extension": ".py",
   "mimetype": "text/x-python",
   "name": "python",
   "nbconvert_exporter": "python",
   "pygments_lexer": "ipython3",
   "version": "3.11.1"
  }
 },
 "nbformat": 4,
 "nbformat_minor": 5
}
