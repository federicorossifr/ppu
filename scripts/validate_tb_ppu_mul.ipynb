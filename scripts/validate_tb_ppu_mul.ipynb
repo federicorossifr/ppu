{
 "cells": [
  {
   "cell_type": "code",
   "execution_count": 1,
   "id": "597df19d",
   "metadata": {},
   "outputs": [],
   "source": [
    "import os\n",
    "import hardposit as hp\n",
    "import softposit as sp\n",
    "import fixed2float as fi\n",
    "from pathlib import Path\n",
    "import re\n",
    "import ast"
   ]
  },
  {
   "cell_type": "code",
   "execution_count": 2,
   "id": "28cdc21f",
   "metadata": {},
   "outputs": [
    {
     "data": {
      "text/plain": [
       "'4.0.1'"
      ]
     },
     "execution_count": 2,
     "metadata": {},
     "output_type": "execute_result"
    }
   ],
   "source": [
    "import fixed2float\n",
    "fixed2float.__version__"
   ]
  },
  {
   "cell_type": "code",
   "execution_count": 3,
   "id": "8067a399",
   "metadata": {},
   "outputs": [],
   "source": [
    "N, ES = 16, 1"
   ]
  },
  {
   "cell_type": "code",
   "execution_count": 5,
   "id": "96a8e61f",
   "metadata": {
    "scrolled": true
   },
   "outputs": [
    {
     "name": "stdout",
     "output_type": "stream",
     "text": [
      "(0x3524, 0x5e81, 0xa6c8)\n",
      "(0xd609, 0x5663, 0xa65e)\n",
      "(0x7b0d, 0x998d, 0x7b2a)\n",
      "(0x8465, 0x5212, 0x845c)\n",
      "(0xe301, 0xcd0d, 0x28e7)\n",
      "(0xf176, 0xcd3d, 0x3120)\n",
      "(0x57ed, 0xf78c, 0x5811)\n",
      "(0xe9f9, 0x24c6, 0xd436)\n",
      "(0x84c5, 0xd2aa, 0x84c7)\n",
      "(0xf7e5, 0x7277, 0x8d88)\n",
      "\n"
     ]
    }
   ],
   "source": [
    "with open(Path(\"../tb_ppu.log\"), 'r') as f:\n",
    "  log = f.read()\n",
    "print(log)"
   ]
  },
  {
   "cell_type": "code",
   "execution_count": 6,
   "id": "fb73b172",
   "metadata": {},
   "outputs": [
    {
     "data": {
      "text/plain": [
       "['(0x3524, 0x5e81, 0xa6c8)',\n",
       " '(0xd609, 0x5663, 0xa65e)',\n",
       " '(0x7b0d, 0x998d, 0x7b2a)',\n",
       " '(0x8465, 0x5212, 0x845c)',\n",
       " '(0xe301, 0xcd0d, 0x28e7)',\n",
       " '(0xf176, 0xcd3d, 0x3120)',\n",
       " '(0x57ed, 0xf78c, 0x5811)',\n",
       " '(0xe9f9, 0x24c6, 0xd436)',\n",
       " '(0x84c5, 0xd2aa, 0x84c7)',\n",
       " '(0xf7e5, 0x7277, 0x8d88)']"
      ]
     },
     "execution_count": 6,
     "metadata": {},
     "output_type": "execute_result"
    }
   ],
   "source": [
    "log.splitlines()"
   ]
  },
  {
   "cell_type": "code",
   "execution_count": 7,
   "id": "3b622ba2",
   "metadata": {},
   "outputs": [
    {
     "data": {
      "text/plain": [
       "'(0x3524, 0x5e81, 0xa6c8)'"
      ]
     },
     "execution_count": 7,
     "metadata": {},
     "output_type": "execute_result"
    }
   ],
   "source": [
    "log.splitlines()[0]"
   ]
  },
  {
   "cell_type": "code",
   "execution_count": 8,
   "id": "147c5187",
   "metadata": {},
   "outputs": [],
   "source": [
    "lst = list(map(lambda l: ast.literal_eval(l), log.splitlines()))"
   ]
  },
  {
   "cell_type": "code",
   "execution_count": 9,
   "id": "71b21824",
   "metadata": {},
   "outputs": [],
   "source": [
    "operand1_i, operand2_i, result_o = list(zip(*lst)) "
   ]
  },
  {
   "cell_type": "code",
   "execution_count": 10,
   "id": "23f43309",
   "metadata": {},
   "outputs": [
    {
     "data": {
      "text/plain": [
       "((13604, 54793, 31501, 33893, 58113, 61814, 22509, 59897, 33989, 63461),\n",
       " (24193, 22115, 39309, 21010, 52493, 52541, 63372, 9414, 53930, 29303),\n",
       " (42696, 42590, 31530, 33884, 10471, 12576, 22545, 54326, 33991, 36232))"
      ]
     },
     "execution_count": 10,
     "metadata": {},
     "output_type": "execute_result"
    }
   ],
   "source": [
    "operand1_i, operand2_i, result_o"
   ]
  },
  {
   "cell_type": "code",
   "execution_count": 11,
   "id": "c0cc304d",
   "metadata": {},
   "outputs": [
    {
     "data": {
      "text/plain": [
       "[42696, 42590, 31530, 33884, 10471, 12576, 22545, 54326, 33991, 36232]"
      ]
     },
     "execution_count": 11,
     "metadata": {},
     "output_type": "execute_result"
    }
   ],
   "source": [
    "hardposit_result = list(map(\n",
    "  lambda bits1, bits2: (hp.from_bits(bits1, N, ES) - hp.from_bits(bits2, N, ES)).to_bits(), \n",
    "  operand1_i, \n",
    "  operand2_i\n",
    "))\n",
    "\n",
    "hardposit_result"
   ]
  },
  {
   "cell_type": "code",
   "execution_count": 12,
   "id": "03af746f",
   "metadata": {},
   "outputs": [
    {
     "data": {
      "text/plain": [
       "[True, True, True, True, True, True, True, True, True, True]"
      ]
     },
     "execution_count": 12,
     "metadata": {},
     "output_type": "execute_result"
    }
   ],
   "source": [
    "list(map(lambda val1, val2: val1 == val2, result_o, hardposit_result))"
   ]
  },
  {
   "cell_type": "code",
   "execution_count": 13,
   "id": "92936d01",
   "metadata": {},
   "outputs": [
    {
     "name": "stdout",
     "output_type": "stream",
     "text": [
      "Congratulation, it works.\n"
     ]
    }
   ],
   "source": [
    "assert all(_) == True\n",
    "print(\"Congratulation, it works.\")"
   ]
  },
  {
   "cell_type": "code",
   "execution_count": null,
   "id": "4dde2024",
   "metadata": {},
   "outputs": [],
   "source": []
  }
 ],
 "metadata": {
  "kernelspec": {
   "display_name": "Python 3 (ipykernel)",
   "language": "python",
   "name": "python3"
  },
  "language_info": {
   "codemirror_mode": {
    "name": "ipython",
    "version": 3
   },
   "file_extension": ".py",
   "mimetype": "text/x-python",
   "name": "python",
   "nbconvert_exporter": "python",
   "pygments_lexer": "ipython3",
   "version": "3.11.2"
  },
  "varInspector": {
   "cols": {
    "lenName": 16,
    "lenType": 16,
    "lenVar": 40
   },
   "kernels_config": {
    "python": {
     "delete_cmd_postfix": "",
     "delete_cmd_prefix": "del ",
     "library": "var_list.py",
     "varRefreshCmd": "print(var_dic_list())"
    },
    "r": {
     "delete_cmd_postfix": ") ",
     "delete_cmd_prefix": "rm(",
     "library": "var_list.r",
     "varRefreshCmd": "cat(var_dic_list()) "
    }
   },
   "types_to_exclude": [
    "module",
    "function",
    "builtin_function_or_method",
    "instance",
    "_Feature"
   ],
   "window_display": false
  }
 },
 "nbformat": 4,
 "nbformat_minor": 5
}
