{
 "cells": [
  {
   "cell_type": "code",
   "execution_count": 40,
   "id": "597df19d",
   "metadata": {},
   "outputs": [],
   "source": [
    "import os\n",
    "import hardposit as hp\n",
    "import softposit as sp\n",
    "import fixed2float as fi\n",
    "from pathlib import Path\n",
    "import re\n",
    "import ast"
   ]
  },
  {
   "cell_type": "code",
   "execution_count": 41,
   "id": "28cdc21f",
   "metadata": {},
   "outputs": [
    {
     "data": {
      "text/plain": [
       "'4.0.1'"
      ]
     },
     "execution_count": 41,
     "metadata": {},
     "output_type": "execute_result"
    }
   ],
   "source": [
    "import fixed2float\n",
    "fixed2float.__version__"
   ]
  },
  {
   "cell_type": "code",
   "execution_count": 52,
   "id": "8067a399",
   "metadata": {},
   "outputs": [],
   "source": [
    "N, ES = 8, 1"
   ]
  },
  {
   "cell_type": "code",
   "execution_count": 53,
   "id": "96a8e61f",
   "metadata": {
    "scrolled": true
   },
   "outputs": [
    {
     "name": "stdout",
     "output_type": "stream",
     "text": [
      "(0x24, 0x81, 0x81)\n",
      "(0x09, 0x63, 0x63)\n",
      "(0x0d, 0x8d, 0x8d)\n",
      "(0x65, 0x12, 0x65)\n",
      "(0x01, 0x0d, 0x0d)\n",
      "(0x76, 0x3d, 0x76)\n",
      "(0xed, 0x8c, 0x8c)\n",
      "(0xf9, 0xc6, 0xc6)\n",
      "(0xc5, 0xaa, 0xa3)\n",
      "(0xe5, 0x77, 0x77)\n",
      "(0x12, 0x8f, 0x8f)\n",
      "(0xf2, 0xce, 0xcc)\n",
      "(0xe8, 0xc5, 0xc1)\n",
      "(0x5c, 0xbd, 0x52)\n",
      "(0x2d, 0x65, 0x66)\n",
      "(0x63, 0x0a, 0x63)\n",
      "(0x80, 0x20, 0x80)\n",
      "(0xaa, 0x9d, 0x98)\n",
      "(0x96, 0x13, 0x96)\n",
      "(0x0d, 0x53, 0x53)\n",
      "(0x6b, 0xd5, 0x6b)\n",
      "(0x02, 0xae, 0xae)\n",
      "(0x1d, 0xcf, 0xdb)\n",
      "(0x23, 0x0a, 0x24)\n",
      "(0xca, 0x3c, 0x1c)\n",
      "(0xf2, 0x8a, 0x8a)\n",
      "(0x41, 0xd8, 0x36)\n",
      "(0x78, 0x89, 0x68)\n",
      "(0xeb, 0xb6, 0xb4)\n",
      "(0xc6, 0xae, 0xa8)\n",
      "\n"
     ]
    }
   ],
   "source": [
    "with open(Path(\"../tb_ppu.log\"), 'r') as f:\n",
    "  log = f.read()\n",
    "print(log)"
   ]
  },
  {
   "cell_type": "code",
   "execution_count": 54,
   "id": "fb73b172",
   "metadata": {},
   "outputs": [
    {
     "data": {
      "text/plain": [
       "['(0x24, 0x81, 0x81)',\n",
       " '(0x09, 0x63, 0x63)',\n",
       " '(0x0d, 0x8d, 0x8d)',\n",
       " '(0x65, 0x12, 0x65)',\n",
       " '(0x01, 0x0d, 0x0d)',\n",
       " '(0x76, 0x3d, 0x76)',\n",
       " '(0xed, 0x8c, 0x8c)',\n",
       " '(0xf9, 0xc6, 0xc6)',\n",
       " '(0xc5, 0xaa, 0xa3)',\n",
       " '(0xe5, 0x77, 0x77)',\n",
       " '(0x12, 0x8f, 0x8f)',\n",
       " '(0xf2, 0xce, 0xcc)',\n",
       " '(0xe8, 0xc5, 0xc1)',\n",
       " '(0x5c, 0xbd, 0x52)',\n",
       " '(0x2d, 0x65, 0x66)',\n",
       " '(0x63, 0x0a, 0x63)',\n",
       " '(0x80, 0x20, 0x80)',\n",
       " '(0xaa, 0x9d, 0x98)',\n",
       " '(0x96, 0x13, 0x96)',\n",
       " '(0x0d, 0x53, 0x53)',\n",
       " '(0x6b, 0xd5, 0x6b)',\n",
       " '(0x02, 0xae, 0xae)',\n",
       " '(0x1d, 0xcf, 0xdb)',\n",
       " '(0x23, 0x0a, 0x24)',\n",
       " '(0xca, 0x3c, 0x1c)',\n",
       " '(0xf2, 0x8a, 0x8a)',\n",
       " '(0x41, 0xd8, 0x36)',\n",
       " '(0x78, 0x89, 0x68)',\n",
       " '(0xeb, 0xb6, 0xb4)',\n",
       " '(0xc6, 0xae, 0xa8)']"
      ]
     },
     "execution_count": 54,
     "metadata": {},
     "output_type": "execute_result"
    }
   ],
   "source": [
    "log.splitlines()"
   ]
  },
  {
   "cell_type": "code",
   "execution_count": 55,
   "id": "3b622ba2",
   "metadata": {},
   "outputs": [
    {
     "data": {
      "text/plain": [
       "'(0x24, 0x81, 0x81)'"
      ]
     },
     "execution_count": 55,
     "metadata": {},
     "output_type": "execute_result"
    }
   ],
   "source": [
    "log.splitlines()[0]"
   ]
  },
  {
   "cell_type": "code",
   "execution_count": 56,
   "id": "147c5187",
   "metadata": {},
   "outputs": [],
   "source": [
    "lst = list(map(lambda l: ast.literal_eval(l), log.splitlines()))"
   ]
  },
  {
   "cell_type": "code",
   "execution_count": 57,
   "id": "71b21824",
   "metadata": {},
   "outputs": [],
   "source": [
    "operand1_i, operand2_i, result_o = list(zip(*lst)) "
   ]
  },
  {
   "cell_type": "code",
   "execution_count": 58,
   "id": "23f43309",
   "metadata": {},
   "outputs": [
    {
     "data": {
      "text/plain": [
       "((36,\n",
       "  9,\n",
       "  13,\n",
       "  101,\n",
       "  1,\n",
       "  118,\n",
       "  237,\n",
       "  249,\n",
       "  197,\n",
       "  229,\n",
       "  18,\n",
       "  242,\n",
       "  232,\n",
       "  92,\n",
       "  45,\n",
       "  99,\n",
       "  128,\n",
       "  170,\n",
       "  150,\n",
       "  13,\n",
       "  107,\n",
       "  2,\n",
       "  29,\n",
       "  35,\n",
       "  202,\n",
       "  242,\n",
       "  65,\n",
       "  120,\n",
       "  235,\n",
       "  198),\n",
       " (129,\n",
       "  99,\n",
       "  141,\n",
       "  18,\n",
       "  13,\n",
       "  61,\n",
       "  140,\n",
       "  198,\n",
       "  170,\n",
       "  119,\n",
       "  143,\n",
       "  206,\n",
       "  197,\n",
       "  189,\n",
       "  101,\n",
       "  10,\n",
       "  32,\n",
       "  157,\n",
       "  19,\n",
       "  83,\n",
       "  213,\n",
       "  174,\n",
       "  207,\n",
       "  10,\n",
       "  60,\n",
       "  138,\n",
       "  216,\n",
       "  137,\n",
       "  182,\n",
       "  174),\n",
       " (129,\n",
       "  99,\n",
       "  141,\n",
       "  101,\n",
       "  13,\n",
       "  118,\n",
       "  140,\n",
       "  198,\n",
       "  163,\n",
       "  119,\n",
       "  143,\n",
       "  204,\n",
       "  193,\n",
       "  82,\n",
       "  102,\n",
       "  99,\n",
       "  128,\n",
       "  152,\n",
       "  150,\n",
       "  83,\n",
       "  107,\n",
       "  174,\n",
       "  219,\n",
       "  36,\n",
       "  28,\n",
       "  138,\n",
       "  54,\n",
       "  104,\n",
       "  180,\n",
       "  168))"
      ]
     },
     "execution_count": 58,
     "metadata": {},
     "output_type": "execute_result"
    }
   ],
   "source": [
    "operand1_i, operand2_i, result_o"
   ]
  },
  {
   "cell_type": "code",
   "execution_count": 59,
   "id": "c0cc304d",
   "metadata": {},
   "outputs": [
    {
     "data": {
      "text/plain": [
       "[129,\n",
       " 99,\n",
       " 141,\n",
       " 101,\n",
       " 13,\n",
       " 118,\n",
       " 140,\n",
       " 198,\n",
       " 163,\n",
       " 119,\n",
       " 143,\n",
       " 204,\n",
       " 193,\n",
       " 82,\n",
       " 102,\n",
       " 99,\n",
       " 128,\n",
       " 152,\n",
       " 150,\n",
       " 83,\n",
       " 107,\n",
       " 174,\n",
       " 219,\n",
       " 36,\n",
       " 28,\n",
       " 138,\n",
       " 54,\n",
       " 104,\n",
       " 180,\n",
       " 168]"
      ]
     },
     "execution_count": 59,
     "metadata": {},
     "output_type": "execute_result"
    }
   ],
   "source": [
    "hardposit_result = list(map(\n",
    "  lambda bits1, bits2: (hp.from_bits(bits1, N, ES) + hp.from_bits(bits2, N, ES)).to_bits(), \n",
    "  operand1_i, \n",
    "  operand2_i\n",
    "))\n",
    "\n",
    "hardposit_result"
   ]
  },
  {
   "cell_type": "code",
   "execution_count": 60,
   "id": "03af746f",
   "metadata": {},
   "outputs": [
    {
     "data": {
      "text/plain": [
       "[True,\n",
       " True,\n",
       " True,\n",
       " True,\n",
       " True,\n",
       " True,\n",
       " True,\n",
       " True,\n",
       " True,\n",
       " True,\n",
       " True,\n",
       " True,\n",
       " True,\n",
       " True,\n",
       " True,\n",
       " True,\n",
       " True,\n",
       " True,\n",
       " True,\n",
       " True,\n",
       " True,\n",
       " True,\n",
       " True,\n",
       " True,\n",
       " True,\n",
       " True,\n",
       " True,\n",
       " True,\n",
       " True,\n",
       " True]"
      ]
     },
     "execution_count": 60,
     "metadata": {},
     "output_type": "execute_result"
    }
   ],
   "source": [
    "list(map(lambda val1, val2: val1 == val2, result_o, hardposit_result))"
   ]
  },
  {
   "cell_type": "code",
   "execution_count": 61,
   "id": "92936d01",
   "metadata": {},
   "outputs": [
    {
     "name": "stdout",
     "output_type": "stream",
     "text": [
      "Congratulation, it works.\n"
     ]
    }
   ],
   "source": [
    "assert all(_) == True\n",
    "print(\"Congratulation, it works.\")"
   ]
  },
  {
   "cell_type": "code",
   "execution_count": null,
   "id": "503db9d1",
   "metadata": {},
   "outputs": [],
   "source": []
  },
  {
   "cell_type": "code",
   "execution_count": null,
   "id": "180cd0f5",
   "metadata": {},
   "outputs": [],
   "source": []
  }
 ],
 "metadata": {
  "kernelspec": {
   "display_name": "Python 3 (ipykernel)",
   "language": "python",
   "name": "python3"
  },
  "language_info": {
   "codemirror_mode": {
    "name": "ipython",
    "version": 3
   },
   "file_extension": ".py",
   "mimetype": "text/x-python",
   "name": "python",
   "nbconvert_exporter": "python",
   "pygments_lexer": "ipython3",
   "version": "3.11.2"
  },
  "varInspector": {
   "cols": {
    "lenName": 16,
    "lenType": 16,
    "lenVar": 40
   },
   "kernels_config": {
    "python": {
     "delete_cmd_postfix": "",
     "delete_cmd_prefix": "del ",
     "library": "var_list.py",
     "varRefreshCmd": "print(var_dic_list())"
    },
    "r": {
     "delete_cmd_postfix": ") ",
     "delete_cmd_prefix": "rm(",
     "library": "var_list.r",
     "varRefreshCmd": "cat(var_dic_list()) "
    }
   },
   "types_to_exclude": [
    "module",
    "function",
    "builtin_function_or_method",
    "instance",
    "_Feature"
   ],
   "window_display": false
  }
 },
 "nbformat": 4,
 "nbformat_minor": 5
}
