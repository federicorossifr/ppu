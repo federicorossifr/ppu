{
 "cells": [
  {
   "cell_type": "code",
   "execution_count": 102,
   "id": "597df19d",
   "metadata": {},
   "outputs": [],
   "source": [
    "import os\n",
    "import hardposit as hp\n",
    "import softposit as sp\n",
    "import fixed2float as fi\n",
    "from pathlib import Path\n",
    "import re\n",
    "import ast"
   ]
  },
  {
   "cell_type": "code",
   "execution_count": 148,
   "id": "28cdc21f",
   "metadata": {},
   "outputs": [
    {
     "data": {
      "text/plain": [
       "'4.0.1'"
      ]
     },
     "execution_count": 148,
     "metadata": {},
     "output_type": "execute_result"
    }
   ],
   "source": [
    "import fixed2float\n",
    "fixed2float.__version__"
   ]
  },
  {
   "cell_type": "code",
   "execution_count": 149,
   "id": "8067a399",
   "metadata": {},
   "outputs": [],
   "source": [
    "N, ES = 16, 1"
   ]
  },
  {
   "cell_type": "code",
   "execution_count": 150,
   "id": "96a8e61f",
   "metadata": {
    "scrolled": true
   },
   "outputs": [
    {
     "name": "stdout",
     "output_type": "stream",
     "text": [
      "(0x3524, 0x5e81, 0x0000000284df2404, 0x5427)\n",
      "(0xd609, 0x5663, 0x00000001623ce184, 0x4624)\n",
      "(0x7b0d, 0x998d, 0xfffffa7ec75ce184, 0x81d0)\n",
      "(0x8465, 0x5212, 0xfffff875902ce184, 0x818f)\n",
      "(0xe301, 0xcd0d, 0xfffff875aef56324, 0x818f)\n",
      "(0xf176, 0xcd3d, 0xfffff875b6a05504, 0x818f)\n",
      "(0x57ed, 0xf78c, 0xfffff875a94ee884, 0x818f)\n",
      "(0xe9f9, 0x24c6, 0xfffff875a033bd34, 0x818f)\n",
      "(0x84c5, 0xd2aa, 0xfffff8d46505bd34, 0x819b)\n",
      "(0xf7e5, 0x7277, 0xfffff8d3fadb8934, 0x819a)\n",
      "\n"
     ]
    }
   ],
   "source": [
    "with open(Path(\"../tb_ppu.log\"), 'r') as f:\n",
    "  log = f.read()\n",
    "print(log)"
   ]
  },
  {
   "cell_type": "code",
   "execution_count": 151,
   "id": "3b622ba2",
   "metadata": {},
   "outputs": [
    {
     "data": {
      "text/plain": [
       "'(0x3524, 0x5e81, 0x0000000284df2404, 0x5427)'"
      ]
     },
     "execution_count": 151,
     "metadata": {},
     "output_type": "execute_result"
    }
   ],
   "source": [
    "log.splitlines()[0]"
   ]
  },
  {
   "cell_type": "code",
   "execution_count": 152,
   "id": "147c5187",
   "metadata": {},
   "outputs": [],
   "source": [
    "lst = list(map(lambda l: ast.literal_eval(l), log.splitlines()))"
   ]
  },
  {
   "cell_type": "code",
   "execution_count": 153,
   "id": "71b21824",
   "metadata": {},
   "outputs": [],
   "source": [
    "operand1_i, operand2_i, fixed_o, result_o = list(zip(*lst)) "
   ]
  },
  {
   "cell_type": "code",
   "execution_count": 154,
   "id": "23f43309",
   "metadata": {},
   "outputs": [
    {
     "data": {
      "text/plain": [
       "((13604, 54793, 31501, 33893, 58113, 61814, 22509, 59897, 33989, 63461),\n",
       " (24193, 22115, 39309, 21010, 52493, 52541, 63372, 9414, 53930, 29303),\n",
       " (10819150852,\n",
       "  5943124356,\n",
       "  18446738021150417284,\n",
       "  18446735782546563460,\n",
       "  18446735783063020324,\n",
       "  18446735783191663876,\n",
       "  18446735782968223876,\n",
       "  18446735782815448372,\n",
       "  18446736189844471092,\n",
       "  18446736188063320372),\n",
       " (21543, 17956, 33232, 33167, 33167, 33167, 33167, 33167, 33179, 33178))"
      ]
     },
     "execution_count": 154,
     "metadata": {},
     "output_type": "execute_result"
    }
   ],
   "source": [
    "operand1_i, operand2_i, fixed_o, result_o"
   ]
  },
  {
   "cell_type": "code",
   "execution_count": 155,
   "id": "2ad7be95",
   "metadata": {},
   "outputs": [],
   "source": [
    "acc = hp.from_bits(0, N, ES)\n",
    "for (operand1, operand2) in zip(operand1_i, operand2_i):\n",
    "  acc += (hp.from_bits(operand1, N, ES) * hp.from_bits(operand2, N, ES))"
   ]
  },
  {
   "cell_type": "code",
   "execution_count": 156,
   "id": "8cab3961",
   "metadata": {},
   "outputs": [
    {
     "data": {
      "text/plain": [
       "\u001b[37;41m1\u001b[30;43m1111110\u001b[37;44m0\u001b[37;40m1100101\u001b[0m P<16,1>(33179) -1832.0"
      ]
     },
     "execution_count": 156,
     "metadata": {},
     "output_type": "execute_result"
    }
   ],
   "source": [
    "acc"
   ]
  },
  {
   "cell_type": "code",
   "execution_count": 157,
   "id": "48b5a027",
   "metadata": {},
   "outputs": [
    {
     "data": {
      "text/plain": [
       "\u001b[37;41m1\u001b[45m1111111111111111111100011010011\u001b[37;40m11111010110110111000100100110100\u001b[0m Fx<31,64>(18446736188063320372) -1836.0200876472518"
      ]
     },
     "execution_count": 157,
     "metadata": {},
     "output_type": "execute_result"
    }
   ],
   "source": [
    "M, B = 31, 64\n",
    "fi.from_bits(fixed_o[-1], M, B)"
   ]
  },
  {
   "cell_type": "code",
   "execution_count": 158,
   "id": "3202f0b3",
   "metadata": {},
   "outputs": [
    {
     "data": {
      "text/plain": [
       "-1840.0"
      ]
     },
     "execution_count": 158,
     "metadata": {},
     "output_type": "execute_result"
    }
   ],
   "source": [
    "hp.from_bits(result_o[-1], N, ES).eval()"
   ]
  },
  {
   "cell_type": "markdown",
   "id": "9fb3317e",
   "metadata": {},
   "source": [
    "### test result using softposit"
   ]
  },
  {
   "cell_type": "code",
   "execution_count": 159,
   "id": "8c220d72",
   "metadata": {},
   "outputs": [],
   "source": [
    "softposit_acc = [0] * len(operand1_i)\n",
    "\n",
    "q = sp.quire16()\n",
    "\n",
    "for i, (operand1, operand2) in enumerate(zip(operand1_i, operand2_i)):\n",
    "  q.qma(\n",
    "    sp.posit16(bits=operand1), sp.posit16(bits=operand2)\n",
    "  )\n",
    "  softposit_acc[i] = q.v"
   ]
  },
  {
   "cell_type": "code",
   "execution_count": 160,
   "id": "cb0b5655",
   "metadata": {},
   "outputs": [
    {
     "data": {
      "text/plain": [
       "[2.51904296875,\n",
       " 1.3837890625,\n",
       " -1408.0,\n",
       " -1928.0,\n",
       " -1928.0,\n",
       " -1928.0,\n",
       " -1928.0,\n",
       " -1928.0,\n",
       " -1832.0,\n",
       " -1840.0]"
      ]
     },
     "execution_count": 160,
     "metadata": {},
     "output_type": "execute_result"
    }
   ],
   "source": [
    "softposit_acc"
   ]
  },
  {
   "cell_type": "markdown",
   "id": "77e7ceb8",
   "metadata": {},
   "source": [
    "### FPPU hardware outputs"
   ]
  },
  {
   "cell_type": "code",
   "execution_count": 161,
   "id": "9ff50a54",
   "metadata": {},
   "outputs": [
    {
     "data": {
      "text/plain": [
       "[2.51904296875,\n",
       " 1.3837890625,\n",
       " -1408.0,\n",
       " -1928.0,\n",
       " -1928.0,\n",
       " -1928.0,\n",
       " -1928.0,\n",
       " -1928.0,\n",
       " -1832.0,\n",
       " -1840.0]"
      ]
     },
     "execution_count": 161,
     "metadata": {},
     "output_type": "execute_result"
    }
   ],
   "source": [
    "results_o = list(map(lambda bits: hp.from_bits(bits, N, ES).eval(), result_o))\n",
    "results_o"
   ]
  },
  {
   "cell_type": "code",
   "execution_count": 162,
   "id": "b10015f0",
   "metadata": {},
   "outputs": [
    {
     "data": {
      "text/plain": [
       "[True, True, True, True, True, True, True, True, True, True]"
      ]
     },
     "execution_count": 162,
     "metadata": {},
     "output_type": "execute_result"
    }
   ],
   "source": [
    "list(map(lambda val1, val2: val1 == val2, map(str, results_o), map(str, softposit_acc)))"
   ]
  },
  {
   "cell_type": "code",
   "execution_count": 163,
   "id": "92936d01",
   "metadata": {},
   "outputs": [
    {
     "name": "stdout",
     "output_type": "stream",
     "text": [
      "Congratulation, it works.\n"
     ]
    }
   ],
   "source": [
    "assert all(_) == True\n",
    "print(\"Congratulation, it works.\")"
   ]
  }
 ],
 "metadata": {
  "kernelspec": {
   "display_name": "Python 3 (ipykernel)",
   "language": "python",
   "name": "python3"
  },
  "language_info": {
   "codemirror_mode": {
    "name": "ipython",
    "version": 3
   },
   "file_extension": ".py",
   "mimetype": "text/x-python",
   "name": "python",
   "nbconvert_exporter": "python",
   "pygments_lexer": "ipython3",
   "version": "3.11.1"
  },
  "varInspector": {
   "cols": {
    "lenName": 16,
    "lenType": 16,
    "lenVar": 40
   },
   "kernels_config": {
    "python": {
     "delete_cmd_postfix": "",
     "delete_cmd_prefix": "del ",
     "library": "var_list.py",
     "varRefreshCmd": "print(var_dic_list())"
    },
    "r": {
     "delete_cmd_postfix": ") ",
     "delete_cmd_prefix": "rm(",
     "library": "var_list.r",
     "varRefreshCmd": "cat(var_dic_list()) "
    }
   },
   "types_to_exclude": [
    "module",
    "function",
    "builtin_function_or_method",
    "instance",
    "_Feature"
   ],
   "window_display": false
  }
 },
 "nbformat": 4,
 "nbformat_minor": 5
}
