{
 "cells": [
  {
   "cell_type": "code",
   "execution_count": 10,
   "id": "597df19d",
   "metadata": {},
   "outputs": [],
   "source": [
    "import os\n",
    "import hardposit as hp\n",
    "import softposit as sp\n",
    "import fixed2float as fi\n",
    "from pathlib import Path\n",
    "import re\n",
    "import ast"
   ]
  },
  {
   "cell_type": "code",
   "execution_count": 11,
   "id": "28cdc21f",
   "metadata": {},
   "outputs": [
    {
     "data": {
      "text/plain": [
       "'4.0.1'"
      ]
     },
     "execution_count": 11,
     "metadata": {},
     "output_type": "execute_result"
    }
   ],
   "source": [
    "import fixed2float\n",
    "fixed2float.__version__"
   ]
  },
  {
   "cell_type": "code",
   "execution_count": 12,
   "id": "8067a399",
   "metadata": {},
   "outputs": [],
   "source": [
    "N, ES = 8, 0"
   ]
  },
  {
   "cell_type": "code",
   "execution_count": 13,
   "id": "96a8e61f",
   "metadata": {
    "scrolled": true
   },
   "outputs": [
    {
     "name": "stdout",
     "output_type": "stream",
     "text": [
      "(0x24, 0x81, 0xffffffdc02000000, 0x82)\n",
      "(0x09, 0x63, 0xffffffdc57800000, 0x82)\n",
      "(0x0d, 0x8d, 0xffffffdb39800000, 0x82)\n",
      "(0x65, 0x12, 0xffffffdbf6800000, 0x82)\n",
      "(0x01, 0x0d, 0xffffffdbf7500000, 0x82)\n",
      "(0x76, 0x3d, 0xffffffe2a3500000, 0x82)\n",
      "(0xed, 0x8c, 0xffffffe46b500000, 0x83)\n",
      "(0xf9, 0xc6, 0xffffffe484b00000, 0x83)\n",
      "(0xc5, 0xaa, 0xffffffe612f00000, 0x83)\n",
      "(0xe5, 0x77, 0xffffffe2e8f00000, 0x82)\n",
      "(0x12, 0x8f, 0xffffffe1a4f00000, 0x82)\n",
      "(0xf2, 0xce, 0xffffffe1d0b00000, 0x82)\n",
      "(0xe8, 0xc5, 0xffffffe229300000, 0x82)\n",
      "(0x5c, 0xbd, 0xffffffe01c300000, 0x82)\n",
      "(0x2d, 0x65, 0xffffffe1f4b00000, 0x82)\n",
      "(0x63, 0x0a, 0xffffffe253b00000, 0x82)\n",
      "(0x80, 0x20, 0xffffffe252b00000, 0x80)\n",
      "(0xaa, 0x9d, 0xffffffe654b00000, 0x83)\n",
      "(0x96, 0x13, 0xffffffe55db00000, 0x83)\n",
      "(0x0d, 0x53, 0xffffffe5b0900000, 0x83)\n",
      "(0x6b, 0xd5, 0xffffffe36c100000, 0x82)\n",
      "(0x02, 0xae, 0xffffffe35f900000, 0x82)\n",
      "(0x1d, 0xcf, 0xffffffe306c00000, 0x82)\n",
      "(0x23, 0x0a, 0xffffffe31ca00000, 0x82)\n",
      "(0xca, 0x3c, 0xffffffe252200000, 0x82)\n",
      "(0xf2, 0x8a, 0xffffffe3da200000, 0x82)\n",
      "(0x41, 0xd8, 0xffffffe335200000, 0x82)\n",
      "(0x78, 0x89, 0xffffffa735200000, 0x81)\n",
      "(0xeb, 0xb6, 0xffffffa7a3600000, 0x81)\n",
      "(0xc6, 0xae, 0xffffffa90de00000, 0x81)\n",
      "(0xbc, 0x2a, 0xffffffa850e00000, 0x81)\n",
      "(0x0b, 0x71, 0xffffffa916e00000, 0x81)\n",
      "(0x85, 0x4f, 0xffffff9486e00000, 0x81)\n",
      "(0x3b, 0x3a, 0xffffff955cc00000, 0x81)\n",
      "(0x7e, 0x15, 0xffffff9fdcc00000, 0x81)\n",
      "(0xf1, 0xd9, 0xffffffa001500000, 0x81)\n",
      "(0x62, 0x4c, 0xffffffa319500000, 0x81)\n",
      "(0x9f, 0x8f, 0xffffffaca9500000, 0x81)\n",
      "(0xf8, 0xb7, 0xffffffacd2500000, 0x81)\n",
      "(0x9f, 0x5c, 0xffffffa8d6500000, 0x81)\n",
      "\n"
     ]
    }
   ],
   "source": [
    "with open(Path(\"../tb_ppu.log\"), 'r') as f:\n",
    "  log = f.read()\n",
    "print(log)"
   ]
  },
  {
   "cell_type": "code",
   "execution_count": 14,
   "id": "3b622ba2",
   "metadata": {},
   "outputs": [
    {
     "data": {
      "text/plain": [
       "'(0x24, 0x81, 0xffffffdc02000000, 0x82)'"
      ]
     },
     "execution_count": 14,
     "metadata": {},
     "output_type": "execute_result"
    }
   ],
   "source": [
    "log.splitlines()[0]"
   ]
  },
  {
   "cell_type": "code",
   "execution_count": 15,
   "id": "147c5187",
   "metadata": {},
   "outputs": [],
   "source": [
    "lst = list(map(lambda l: ast.literal_eval(l), log.splitlines()))"
   ]
  },
  {
   "cell_type": "code",
   "execution_count": 16,
   "id": "71b21824",
   "metadata": {},
   "outputs": [],
   "source": [
    "operand1_i, operand2_i, fixed_o, result_o = list(zip(*lst)) "
   ]
  },
  {
   "cell_type": "code",
   "execution_count": 17,
   "id": "23f43309",
   "metadata": {},
   "outputs": [
    {
     "data": {
      "text/plain": [
       "((36,\n",
       "  9,\n",
       "  13,\n",
       "  101,\n",
       "  1,\n",
       "  118,\n",
       "  237,\n",
       "  249,\n",
       "  197,\n",
       "  229,\n",
       "  18,\n",
       "  242,\n",
       "  232,\n",
       "  92,\n",
       "  45,\n",
       "  99,\n",
       "  128,\n",
       "  170,\n",
       "  150,\n",
       "  13,\n",
       "  107,\n",
       "  2,\n",
       "  29,\n",
       "  35,\n",
       "  202,\n",
       "  242,\n",
       "  65,\n",
       "  120,\n",
       "  235,\n",
       "  198,\n",
       "  188,\n",
       "  11,\n",
       "  133,\n",
       "  59,\n",
       "  126,\n",
       "  241,\n",
       "  98,\n",
       "  159,\n",
       "  248,\n",
       "  159),\n",
       " (129,\n",
       "  99,\n",
       "  141,\n",
       "  18,\n",
       "  13,\n",
       "  61,\n",
       "  140,\n",
       "  198,\n",
       "  170,\n",
       "  119,\n",
       "  143,\n",
       "  206,\n",
       "  197,\n",
       "  189,\n",
       "  101,\n",
       "  10,\n",
       "  32,\n",
       "  157,\n",
       "  19,\n",
       "  83,\n",
       "  213,\n",
       "  174,\n",
       "  207,\n",
       "  10,\n",
       "  60,\n",
       "  138,\n",
       "  216,\n",
       "  137,\n",
       "  182,\n",
       "  174,\n",
       "  42,\n",
       "  113,\n",
       "  79,\n",
       "  58,\n",
       "  21,\n",
       "  217,\n",
       "  76,\n",
       "  143,\n",
       "  183,\n",
       "  92),\n",
       " (18446743919124283392,\n",
       "  18446743920558735360,\n",
       "  18446743915760451584,\n",
       "  18446743918931345408,\n",
       "  18446743918944976896,\n",
       "  18446743947600461824,\n",
       "  18446743955250872320,\n",
       "  18446743955676594176,\n",
       "  18446743962358120448,\n",
       "  18446743948768575488,\n",
       "  18446743943332757504,\n",
       "  18446743944066760704,\n",
       "  18446743945551544320,\n",
       "  18446743936743505920,\n",
       "  18446743944670740480,\n",
       "  18446743946264576000,\n",
       "  18446743946247798784,\n",
       "  18446743963461222400,\n",
       "  18446743959317250048,\n",
       "  18446743960707661824,\n",
       "  18446743950968487936,\n",
       "  18446743950758772736,\n",
       "  18446743949268746240,\n",
       "  18446743949635747840,\n",
       "  18446743946238361600,\n",
       "  18446743952815030272,\n",
       "  18446743950046789632,\n",
       "  18446743692348751872,\n",
       "  18446743694198439936,\n",
       "  18446743700280180736,\n",
       "  18446743697109286912,\n",
       "  18446743700431175680,\n",
       "  18446743612115910656,\n",
       "  18446743615704137728,\n",
       "  18446743660801294336,\n",
       "  18446743661414711296,\n",
       "  18446743674702266368,\n",
       "  18446743715772891136,\n",
       "  18446743716460756992,\n",
       "  18446743699347996672),\n",
       " (130,\n",
       "  130,\n",
       "  130,\n",
       "  130,\n",
       "  130,\n",
       "  130,\n",
       "  131,\n",
       "  131,\n",
       "  131,\n",
       "  130,\n",
       "  130,\n",
       "  130,\n",
       "  130,\n",
       "  130,\n",
       "  130,\n",
       "  130,\n",
       "  128,\n",
       "  131,\n",
       "  131,\n",
       "  131,\n",
       "  130,\n",
       "  130,\n",
       "  130,\n",
       "  130,\n",
       "  130,\n",
       "  130,\n",
       "  130,\n",
       "  129,\n",
       "  129,\n",
       "  129,\n",
       "  129,\n",
       "  129,\n",
       "  129,\n",
       "  129,\n",
       "  129,\n",
       "  129,\n",
       "  129,\n",
       "  129,\n",
       "  129,\n",
       "  129))"
      ]
     },
     "execution_count": 17,
     "metadata": {},
     "output_type": "execute_result"
    }
   ],
   "source": [
    "operand1_i, operand2_i, fixed_o, result_o"
   ]
  },
  {
   "cell_type": "code",
   "execution_count": 18,
   "id": "2ad7be95",
   "metadata": {},
   "outputs": [],
   "source": [
    "acc = hp.from_bits(0, N, ES)\n",
    "for (operand1, operand2) in zip(operand1_i, operand2_i):\n",
    "  acc += (hp.from_bits(operand1, N, ES) * hp.from_bits(operand2, N, ES))"
   ]
  },
  {
   "cell_type": "code",
   "execution_count": 19,
   "id": "8cab3961",
   "metadata": {},
   "outputs": [
    {
     "data": {
      "text/plain": [
       "\u001b[37;41m1\u001b[0m\u001b[90m0000000\u001b[0m P<8,0>(128) nan"
      ]
     },
     "execution_count": 19,
     "metadata": {},
     "output_type": "execute_result"
    }
   ],
   "source": [
    "acc"
   ]
  },
  {
   "cell_type": "code",
   "execution_count": 20,
   "id": "48b5a027",
   "metadata": {},
   "outputs": [
    {
     "data": {
      "text/plain": [
       "\u001b[37;41m1\u001b[45m1111111111111111111111110101000\u001b[37;40m11010110010100000000000000000000\u001b[0m Fx<31,64>(18446743699347996672) -87.162841796875"
      ]
     },
     "execution_count": 20,
     "metadata": {},
     "output_type": "execute_result"
    }
   ],
   "source": [
    "M, B = 31, 64\n",
    "fi.from_bits(fixed_o[-1], M, B)"
   ]
  },
  {
   "cell_type": "code",
   "execution_count": 21,
   "id": "3202f0b3",
   "metadata": {},
   "outputs": [
    {
     "data": {
      "text/plain": [
       "-64.0"
      ]
     },
     "execution_count": 21,
     "metadata": {},
     "output_type": "execute_result"
    }
   ],
   "source": [
    "hp.from_bits(result_o[-1], N, ES).eval()"
   ]
  },
  {
   "cell_type": "markdown",
   "id": "9fb3317e",
   "metadata": {},
   "source": [
    "### test result using softposit"
   ]
  },
  {
   "cell_type": "code",
   "execution_count": 22,
   "id": "8c220d72",
   "metadata": {},
   "outputs": [],
   "source": [
    "softposit_acc = [0] * len(operand1_i)\n",
    "\n",
    "q = sp.quire16()\n",
    "\n",
    "for i, (operand1, operand2) in enumerate(zip(operand1_i, operand2_i)):\n",
    "  q.qma(\n",
    "    sp.posit16(bits=operand1), sp.posit16(bits=operand2)\n",
    "  )\n",
    "  softposit_acc[i] = q.v"
   ]
  },
  {
   "cell_type": "code",
   "execution_count": 23,
   "id": "cb0b5655",
   "metadata": {},
   "outputs": [
    {
     "data": {
      "text/plain": [
       "[3.725290298461914e-09,\n",
       " 3.725290298461914e-09,\n",
       " 3.725290298461914e-09,\n",
       " 3.725290298461914e-09,\n",
       " 3.725290298461914e-09,\n",
       " 3.725290298461914e-09,\n",
       " 1.4901161193847656e-08,\n",
       " 5.960464477539063e-08,\n",
       " 5.960464477539063e-08,\n",
       " 5.960464477539063e-08,\n",
       " 5.960464477539063e-08,\n",
       " 8.940696716308594e-08,\n",
       " 1.1920928955078125e-07,\n",
       " 1.1920928955078125e-07,\n",
       " 1.1920928955078125e-07,\n",
       " 1.1920928955078125e-07,\n",
       " 1.1920928955078125e-07,\n",
       " 1.1920928955078125e-07,\n",
       " 1.1920928955078125e-07,\n",
       " 1.1920928955078125e-07,\n",
       " 1.1920928955078125e-07,\n",
       " 1.1920928955078125e-07,\n",
       " 1.7881393432617188e-07,\n",
       " 1.7881393432617188e-07,\n",
       " 1.7881393432617188e-07,\n",
       " 1.7881393432617188e-07,\n",
       " 1.7881393432617188e-07,\n",
       " 1.7881393432617188e-07,\n",
       " 1.7881393432617188e-07,\n",
       " 2.384185791015625e-07,\n",
       " 2.384185791015625e-07,\n",
       " 2.384185791015625e-07,\n",
       " 2.384185791015625e-07,\n",
       " 2.384185791015625e-07,\n",
       " 2.384185791015625e-07,\n",
       " 2.384185791015625e-07,\n",
       " 2.384185791015625e-07,\n",
       " 2.384185791015625e-07,\n",
       " 2.980232238769531e-07,\n",
       " 2.980232238769531e-07]"
      ]
     },
     "execution_count": 23,
     "metadata": {},
     "output_type": "execute_result"
    }
   ],
   "source": [
    "softposit_acc"
   ]
  },
  {
   "cell_type": "markdown",
   "id": "77e7ceb8",
   "metadata": {},
   "source": [
    "### FPPU hardware outputs"
   ]
  },
  {
   "cell_type": "code",
   "execution_count": 24,
   "id": "9ff50a54",
   "metadata": {},
   "outputs": [
    {
     "data": {
      "text/plain": [
       "[-32.0,\n",
       " -32.0,\n",
       " -32.0,\n",
       " -32.0,\n",
       " -32.0,\n",
       " -32.0,\n",
       " -24.0,\n",
       " -24.0,\n",
       " -24.0,\n",
       " -32.0,\n",
       " -32.0,\n",
       " -32.0,\n",
       " -32.0,\n",
       " -32.0,\n",
       " -32.0,\n",
       " -32.0,\n",
       " nan,\n",
       " -24.0,\n",
       " -24.0,\n",
       " -24.0,\n",
       " -32.0,\n",
       " -32.0,\n",
       " -32.0,\n",
       " -32.0,\n",
       " -32.0,\n",
       " -32.0,\n",
       " -32.0,\n",
       " -64.0,\n",
       " -64.0,\n",
       " -64.0,\n",
       " -64.0,\n",
       " -64.0,\n",
       " -64.0,\n",
       " -64.0,\n",
       " -64.0,\n",
       " -64.0,\n",
       " -64.0,\n",
       " -64.0,\n",
       " -64.0,\n",
       " -64.0]"
      ]
     },
     "execution_count": 24,
     "metadata": {},
     "output_type": "execute_result"
    }
   ],
   "source": [
    "results_o = list(map(lambda bits: hp.from_bits(bits, N, ES).eval(), result_o))\n",
    "results_o"
   ]
  },
  {
   "cell_type": "code",
   "execution_count": 25,
   "id": "b10015f0",
   "metadata": {},
   "outputs": [
    {
     "data": {
      "text/plain": [
       "[False,\n",
       " False,\n",
       " False,\n",
       " False,\n",
       " False,\n",
       " False,\n",
       " False,\n",
       " False,\n",
       " False,\n",
       " False,\n",
       " False,\n",
       " False,\n",
       " False,\n",
       " False,\n",
       " False,\n",
       " False,\n",
       " False,\n",
       " False,\n",
       " False,\n",
       " False,\n",
       " False,\n",
       " False,\n",
       " False,\n",
       " False,\n",
       " False,\n",
       " False,\n",
       " False,\n",
       " False,\n",
       " False,\n",
       " False,\n",
       " False,\n",
       " False,\n",
       " False,\n",
       " False,\n",
       " False,\n",
       " False,\n",
       " False,\n",
       " False,\n",
       " False,\n",
       " False]"
      ]
     },
     "execution_count": 25,
     "metadata": {},
     "output_type": "execute_result"
    }
   ],
   "source": [
    "list(map(lambda val1, val2: val1 == val2, map(str, results_o), map(str, softposit_acc)))"
   ]
  },
  {
   "cell_type": "code",
   "execution_count": 26,
   "id": "92936d01",
   "metadata": {},
   "outputs": [
    {
     "ename": "AssertionError",
     "evalue": "",
     "output_type": "error",
     "traceback": [
      "\u001b[0;31m---------------------------------------------------------------------------\u001b[0m",
      "\u001b[0;31mAssertionError\u001b[0m                            Traceback (most recent call last)",
      "Cell \u001b[0;32mIn[26], line 1\u001b[0m\n\u001b[0;32m----> 1\u001b[0m \u001b[38;5;28;01massert\u001b[39;00m \u001b[38;5;28mall\u001b[39m(_) \u001b[38;5;241m==\u001b[39m \u001b[38;5;28;01mTrue\u001b[39;00m\n\u001b[1;32m      2\u001b[0m \u001b[38;5;28mprint\u001b[39m(\u001b[38;5;124m\"\u001b[39m\u001b[38;5;124mCongratulation, it works.\u001b[39m\u001b[38;5;124m\"\u001b[39m)\n",
      "\u001b[0;31mAssertionError\u001b[0m: "
     ]
    }
   ],
   "source": [
    "assert all(_) == True\n",
    "print(\"Congratulation, it works.\")"
   ]
  },
  {
   "cell_type": "code",
   "execution_count": null,
   "id": "01bc89a1",
   "metadata": {},
   "outputs": [],
   "source": []
  },
  {
   "cell_type": "code",
   "execution_count": null,
   "id": "1e03b710",
   "metadata": {},
   "outputs": [],
   "source": []
  }
 ],
 "metadata": {
  "kernelspec": {
   "display_name": "Python 3 (ipykernel)",
   "language": "python",
   "name": "python3"
  },
  "language_info": {
   "codemirror_mode": {
    "name": "ipython",
    "version": 3
   },
   "file_extension": ".py",
   "mimetype": "text/x-python",
   "name": "python",
   "nbconvert_exporter": "python",
   "pygments_lexer": "ipython3",
   "version": "3.11.2"
  },
  "varInspector": {
   "cols": {
    "lenName": 16,
    "lenType": 16,
    "lenVar": 40
   },
   "kernels_config": {
    "python": {
     "delete_cmd_postfix": "",
     "delete_cmd_prefix": "del ",
     "library": "var_list.py",
     "varRefreshCmd": "print(var_dic_list())"
    },
    "r": {
     "delete_cmd_postfix": ") ",
     "delete_cmd_prefix": "rm(",
     "library": "var_list.r",
     "varRefreshCmd": "cat(var_dic_list()) "
    }
   },
   "types_to_exclude": [
    "module",
    "function",
    "builtin_function_or_method",
    "instance",
    "_Feature"
   ],
   "window_display": false
  }
 },
 "nbformat": 4,
 "nbformat_minor": 5
}
