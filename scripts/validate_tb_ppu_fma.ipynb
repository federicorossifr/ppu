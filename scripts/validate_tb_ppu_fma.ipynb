{
 "cells": [
  {
   "cell_type": "code",
   "execution_count": 12,
   "id": "597df19d",
   "metadata": {},
   "outputs": [],
   "source": [
    "import os\n",
    "import hardposit as hp\n",
    "import softposit as sp\n",
    "import fixed2float as fi\n",
    "from pathlib import Path\n",
    "import re\n",
    "import ast"
   ]
  },
  {
   "cell_type": "code",
   "execution_count": 13,
   "id": "28cdc21f",
   "metadata": {},
   "outputs": [
    {
     "data": {
      "text/plain": [
       "'4.0.1'"
      ]
     },
     "execution_count": 13,
     "metadata": {},
     "output_type": "execute_result"
    }
   ],
   "source": [
    "import fixed2float\n",
    "fixed2float.__version__"
   ]
  },
  {
   "cell_type": "code",
   "execution_count": 15,
   "id": "8067a399",
   "metadata": {},
   "outputs": [],
   "source": [
    "N, ES = 16, 1"
   ]
  },
  {
   "cell_type": "code",
   "execution_count": 16,
   "id": "96a8e61f",
   "metadata": {
    "scrolled": true
   },
   "outputs": [
    {
     "name": "stdout",
     "output_type": "stream",
     "text": [
      "(0x3524, 0x5e81, 0x0000000284df2404, 0x5427)\n",
      "(0xd609, 0x5663, 0x00000001623ce184, 0x4624)\n",
      "(0x7b0d, 0x998d, 0xfffffa7ec75ce184, 0x81d0)\n",
      "(0x8465, 0x5212, 0xfffff875902ce184, 0x818f)\n",
      "(0xe301, 0xcd0d, 0xfffff875aef56324, 0x818f)\n",
      "(0xf176, 0xcd3d, 0xfffff875b6a05504, 0x818f)\n",
      "(0x57ed, 0xf78c, 0xfffff875a94ee884, 0x818f)\n",
      "(0xe9f9, 0x24c6, 0xfffff875a033bd34, 0x818f)\n",
      "(0x84c5, 0xd2aa, 0xfffff8d46505bd34, 0x819b)\n",
      "(0xf7e5, 0x7277, 0xfffff8d3fadb8934, 0x819a)\n",
      "(0xd612, 0xdb8f, 0xfffff8d41bfc2a14, 0x819b)\n",
      "(0x69f2, 0x96ce, 0xfffff878a8b82a14, 0x818f)\n",
      "(0x7ae8, 0x4ec5, 0xfffff9de5ad82a14, 0x81bc)\n",
      "(0x495c, 0x28bd, 0xfffff9def7ae6514, 0x81bc)\n",
      "(0x582d, 0x2665, 0xfffff9e006624594, 0x81bc)\n",
      "(0x6263, 0x870a, 0xfffff7f3f4424594, 0x817f)\n",
      "(0x2280, 0x2120, 0xfffff7f4080f4594, 0x817f)\n",
      "(0x45aa, 0xcc9d, 0xfffff7f3360fe694, 0x817f)\n",
      "(0x3e96, 0xb813, 0xfffff7f1c82a7794, 0x817f)\n",
      "(0x380d, 0xd653, 0xfffff7f17af9be74, 0x817f)\n",
      "(0xdd6b, 0x2ad5, 0xfffff7f15bd03ee4, 0x817f)\n",
      "(0x4a02, 0x3eae, 0xfffff7f2eac4ece4, 0x817f)\n",
      "(0xe91d, 0x72cf, 0xfffff7efbfe884e4, 0x817f)\n",
      "(0x4923, 0x650a, 0xfffff7f9fdfb74e4, 0x8180)\n",
      "(0x0aca, 0x4c3c, 0xfffff7fa09f66a64, 0x8180)\n",
      "(0xbdf2, 0x618a, 0xfffff7f4a82a0a64, 0x817f)\n",
      "(0xb341, 0x34d8, 0xfffff7f37c937664, 0x817f)\n",
      "(0xf378, 0x1289, 0xfffff7f37bd48344, 0x817f)\n",
      "(0x0deb, 0x65b6, 0xfffff7f3ccf89544, 0x817f)\n",
      "(0xf9c6, 0x13ae, 0xfffff7f3ccc4926c, 0x817f)\n",
      "(0x02bc, 0xdd2a, 0xfffff7f3cca3e744, 0x817f)\n",
      "(0x9a0b, 0xbe71, 0xfffff7fb752abf44, 0x8180)\n",
      "(0x4185, 0x554f, 0xfffff7fe5fccd544, 0x8180)\n",
      "(0x603b, 0x333a, 0xfffff800d8c64d44, 0x8180)\n",
      "(0x327e, 0x4b15, 0xfffff801d32d7844, 0x8180)\n",
      "(0x9bf1, 0x4bd9, 0xfffff7f754bfc044, 0x817f)\n",
      "(0x0762, 0xfb4c, 0xfffff7f754bb2dd0, 0x817f)\n",
      "(0x559f, 0xa18f, 0xfffff7ed0c0671d0, 0x817f)\n",
      "(0xa9f8, 0x60b7, 0xfffff7e10c0af1d0, 0x817e)\n",
      "(0x569f, 0x945c, 0xfffff7c021af71d0, 0x817c)\n",
      "\n"
     ]
    }
   ],
   "source": [
    "with open(Path(\"../tb_ppu.log\"), 'r') as f:\n",
    "  log = f.read()\n",
    "print(log)"
   ]
  },
  {
   "cell_type": "code",
   "execution_count": 17,
   "id": "3b622ba2",
   "metadata": {},
   "outputs": [
    {
     "data": {
      "text/plain": [
       "'(0x3524, 0x5e81, 0x0000000284df2404, 0x5427)'"
      ]
     },
     "execution_count": 17,
     "metadata": {},
     "output_type": "execute_result"
    }
   ],
   "source": [
    "log.splitlines()[0]"
   ]
  },
  {
   "cell_type": "code",
   "execution_count": 18,
   "id": "147c5187",
   "metadata": {},
   "outputs": [],
   "source": [
    "lst = list(map(lambda l: ast.literal_eval(l), log.splitlines()))"
   ]
  },
  {
   "cell_type": "code",
   "execution_count": 19,
   "id": "71b21824",
   "metadata": {},
   "outputs": [],
   "source": [
    "operand1_i, operand2_i, fixed_o, result_o = list(zip(*lst)) "
   ]
  },
  {
   "cell_type": "code",
   "execution_count": 20,
   "id": "23f43309",
   "metadata": {},
   "outputs": [
    {
     "data": {
      "text/plain": [
       "((13604,\n",
       "  54793,\n",
       "  31501,\n",
       "  33893,\n",
       "  58113,\n",
       "  61814,\n",
       "  22509,\n",
       "  59897,\n",
       "  33989,\n",
       "  63461,\n",
       "  54802,\n",
       "  27122,\n",
       "  31464,\n",
       "  18780,\n",
       "  22573,\n",
       "  25187,\n",
       "  8832,\n",
       "  17834,\n",
       "  16022,\n",
       "  14349,\n",
       "  56683,\n",
       "  18946,\n",
       "  59677,\n",
       "  18723,\n",
       "  2762,\n",
       "  48626,\n",
       "  45889,\n",
       "  62328,\n",
       "  3563,\n",
       "  63942,\n",
       "  700,\n",
       "  39435,\n",
       "  16773,\n",
       "  24635,\n",
       "  12926,\n",
       "  39921,\n",
       "  1890,\n",
       "  21919,\n",
       "  43512,\n",
       "  22175),\n",
       " (24193,\n",
       "  22115,\n",
       "  39309,\n",
       "  21010,\n",
       "  52493,\n",
       "  52541,\n",
       "  63372,\n",
       "  9414,\n",
       "  53930,\n",
       "  29303,\n",
       "  56207,\n",
       "  38606,\n",
       "  20165,\n",
       "  10429,\n",
       "  9829,\n",
       "  34570,\n",
       "  8480,\n",
       "  52381,\n",
       "  47123,\n",
       "  54867,\n",
       "  10965,\n",
       "  16046,\n",
       "  29391,\n",
       "  25866,\n",
       "  19516,\n",
       "  24970,\n",
       "  13528,\n",
       "  4745,\n",
       "  26038,\n",
       "  5038,\n",
       "  56618,\n",
       "  48753,\n",
       "  21839,\n",
       "  13114,\n",
       "  19221,\n",
       "  19417,\n",
       "  64332,\n",
       "  41359,\n",
       "  24759,\n",
       "  37980),\n",
       " (10819150852,\n",
       "  5943124356,\n",
       "  18446738021150417284,\n",
       "  18446735782546563460,\n",
       "  18446735783063020324,\n",
       "  18446735783191663876,\n",
       "  18446735782968223876,\n",
       "  18446735782815448372,\n",
       "  18446736189844471092,\n",
       "  18446736188063320372,\n",
       "  18446736188619106836,\n",
       "  18446735795843246612,\n",
       "  18446737332135012884,\n",
       "  18446737334766298388,\n",
       "  18446737339307935124,\n",
       "  18446735225879938452,\n",
       "  18446735226212140436,\n",
       "  18446735222688966292,\n",
       "  18446735216550246292,\n",
       "  18446735215255207540,\n",
       "  18446735214732394212,\n",
       "  18446735221425761508,\n",
       "  18446735207821772004,\n",
       "  18446735251812873444,\n",
       "  18446735252013869668,\n",
       "  18446735228898249316,\n",
       "  18446735223871993444,\n",
       "  18446735223859479364,\n",
       "  18446735225220797764,\n",
       "  18446735225217389164,\n",
       "  18446735225215248196,\n",
       "  18446735258107428676,\n",
       "  18446735270633854276,\n",
       "  18446735281253403972,\n",
       "  18446735285454469188,\n",
       "  18446735240383676484,\n",
       "  18446735240383376848,\n",
       "  18446735196213899728,\n",
       "  18446735144674587088,\n",
       "  18446735003303768528),\n",
       " (21543,\n",
       "  17956,\n",
       "  33232,\n",
       "  33167,\n",
       "  33167,\n",
       "  33167,\n",
       "  33167,\n",
       "  33167,\n",
       "  33179,\n",
       "  33178,\n",
       "  33179,\n",
       "  33167,\n",
       "  33212,\n",
       "  33212,\n",
       "  33212,\n",
       "  33151,\n",
       "  33151,\n",
       "  33151,\n",
       "  33151,\n",
       "  33151,\n",
       "  33151,\n",
       "  33151,\n",
       "  33151,\n",
       "  33152,\n",
       "  33152,\n",
       "  33151,\n",
       "  33151,\n",
       "  33151,\n",
       "  33151,\n",
       "  33151,\n",
       "  33151,\n",
       "  33152,\n",
       "  33152,\n",
       "  33152,\n",
       "  33152,\n",
       "  33151,\n",
       "  33151,\n",
       "  33151,\n",
       "  33150,\n",
       "  33148))"
      ]
     },
     "execution_count": 20,
     "metadata": {},
     "output_type": "execute_result"
    }
   ],
   "source": [
    "operand1_i, operand2_i, fixed_o, result_o"
   ]
  },
  {
   "cell_type": "code",
   "execution_count": 21,
   "id": "2ad7be95",
   "metadata": {},
   "outputs": [],
   "source": [
    "acc = hp.from_bits(0, N, ES)\n",
    "for (operand1, operand2) in zip(operand1_i, operand2_i):\n",
    "  acc += (hp.from_bits(operand1, N, ES) * hp.from_bits(operand2, N, ES))"
   ]
  },
  {
   "cell_type": "code",
   "execution_count": 22,
   "id": "8cab3961",
   "metadata": {},
   "outputs": [
    {
     "data": {
      "text/plain": [
       "\u001b[37;41m1\u001b[30;43m1111110\u001b[37;44m1\u001b[37;40m0000100\u001b[0m P<16,1>(33148) -2112.0"
      ]
     },
     "execution_count": 22,
     "metadata": {},
     "output_type": "execute_result"
    }
   ],
   "source": [
    "acc"
   ]
  },
  {
   "cell_type": "code",
   "execution_count": 23,
   "id": "48b5a027",
   "metadata": {},
   "outputs": [
    {
     "data": {
      "text/plain": [
       "\u001b[37;41m1\u001b[45m1111111111111111111011111000000\u001b[37;40m00100001101011110111000111010000\u001b[0m Fx<31,64>(18446735003303768528) -2111.8684166781604"
      ]
     },
     "execution_count": 23,
     "metadata": {},
     "output_type": "execute_result"
    }
   ],
   "source": [
    "M, B = 31, 64\n",
    "fi.from_bits(fixed_o[-1], M, B)"
   ]
  },
  {
   "cell_type": "code",
   "execution_count": 24,
   "id": "3202f0b3",
   "metadata": {},
   "outputs": [
    {
     "data": {
      "text/plain": [
       "-2112.0"
      ]
     },
     "execution_count": 24,
     "metadata": {},
     "output_type": "execute_result"
    }
   ],
   "source": [
    "hp.from_bits(result_o[-1], N, ES).eval()"
   ]
  },
  {
   "cell_type": "markdown",
   "id": "9fb3317e",
   "metadata": {},
   "source": [
    "### test result using softposit"
   ]
  },
  {
   "cell_type": "code",
   "execution_count": 25,
   "id": "8c220d72",
   "metadata": {},
   "outputs": [],
   "source": [
    "softposit_acc = [0] * len(operand1_i)\n",
    "\n",
    "q = sp.quire16()\n",
    "\n",
    "for i, (operand1, operand2) in enumerate(zip(operand1_i, operand2_i)):\n",
    "  q.qma(\n",
    "    sp.posit16(bits=operand1), sp.posit16(bits=operand2)\n",
    "  )\n",
    "  softposit_acc[i] = q.v"
   ]
  },
  {
   "cell_type": "code",
   "execution_count": 26,
   "id": "cb0b5655",
   "metadata": {},
   "outputs": [
    {
     "data": {
      "text/plain": [
       "[2.51904296875,\n",
       " 1.3837890625,\n",
       " -1408.0,\n",
       " -1928.0,\n",
       " -1928.0,\n",
       " -1928.0,\n",
       " -1928.0,\n",
       " -1928.0,\n",
       " -1832.0,\n",
       " -1840.0,\n",
       " -1832.0,\n",
       " -1928.0,\n",
       " -1568.0,\n",
       " -1568.0,\n",
       " -1568.0,\n",
       " -2064.0,\n",
       " -2064.0,\n",
       " -2064.0,\n",
       " -2064.0,\n",
       " -2064.0,\n",
       " -2064.0,\n",
       " -2064.0,\n",
       " -2064.0,\n",
       " -2048.0,\n",
       " -2048.0,\n",
       " -2064.0,\n",
       " -2064.0,\n",
       " -2064.0,\n",
       " -2064.0,\n",
       " -2064.0,\n",
       " -2064.0,\n",
       " -2048.0,\n",
       " -2048.0,\n",
       " -2048.0,\n",
       " -2048.0,\n",
       " -2064.0,\n",
       " -2064.0,\n",
       " -2064.0,\n",
       " -2080.0,\n",
       " -2112.0]"
      ]
     },
     "execution_count": 26,
     "metadata": {},
     "output_type": "execute_result"
    }
   ],
   "source": [
    "softposit_acc"
   ]
  },
  {
   "cell_type": "markdown",
   "id": "77e7ceb8",
   "metadata": {},
   "source": [
    "### FPPU hardware outputs"
   ]
  },
  {
   "cell_type": "code",
   "execution_count": 27,
   "id": "9ff50a54",
   "metadata": {},
   "outputs": [
    {
     "data": {
      "text/plain": [
       "[2.51904296875,\n",
       " 1.3837890625,\n",
       " -1408.0,\n",
       " -1928.0,\n",
       " -1928.0,\n",
       " -1928.0,\n",
       " -1928.0,\n",
       " -1928.0,\n",
       " -1832.0,\n",
       " -1840.0,\n",
       " -1832.0,\n",
       " -1928.0,\n",
       " -1568.0,\n",
       " -1568.0,\n",
       " -1568.0,\n",
       " -2064.0,\n",
       " -2064.0,\n",
       " -2064.0,\n",
       " -2064.0,\n",
       " -2064.0,\n",
       " -2064.0,\n",
       " -2064.0,\n",
       " -2064.0,\n",
       " -2048.0,\n",
       " -2048.0,\n",
       " -2064.0,\n",
       " -2064.0,\n",
       " -2064.0,\n",
       " -2064.0,\n",
       " -2064.0,\n",
       " -2064.0,\n",
       " -2048.0,\n",
       " -2048.0,\n",
       " -2048.0,\n",
       " -2048.0,\n",
       " -2064.0,\n",
       " -2064.0,\n",
       " -2064.0,\n",
       " -2080.0,\n",
       " -2112.0]"
      ]
     },
     "execution_count": 27,
     "metadata": {},
     "output_type": "execute_result"
    }
   ],
   "source": [
    "results_o = list(map(lambda bits: hp.from_bits(bits, N, ES).eval(), result_o))\n",
    "results_o"
   ]
  },
  {
   "cell_type": "code",
   "execution_count": 28,
   "id": "b10015f0",
   "metadata": {},
   "outputs": [
    {
     "data": {
      "text/plain": [
       "[True,\n",
       " True,\n",
       " True,\n",
       " True,\n",
       " True,\n",
       " True,\n",
       " True,\n",
       " True,\n",
       " True,\n",
       " True,\n",
       " True,\n",
       " True,\n",
       " True,\n",
       " True,\n",
       " True,\n",
       " True,\n",
       " True,\n",
       " True,\n",
       " True,\n",
       " True,\n",
       " True,\n",
       " True,\n",
       " True,\n",
       " True,\n",
       " True,\n",
       " True,\n",
       " True,\n",
       " True,\n",
       " True,\n",
       " True,\n",
       " True,\n",
       " True,\n",
       " True,\n",
       " True,\n",
       " True,\n",
       " True,\n",
       " True,\n",
       " True,\n",
       " True,\n",
       " True]"
      ]
     },
     "execution_count": 28,
     "metadata": {},
     "output_type": "execute_result"
    }
   ],
   "source": [
    "list(map(lambda val1, val2: val1 == val2, map(str, results_o), map(str, softposit_acc)))"
   ]
  },
  {
   "cell_type": "code",
   "execution_count": 29,
   "id": "92936d01",
   "metadata": {},
   "outputs": [
    {
     "name": "stdout",
     "output_type": "stream",
     "text": [
      "Congratulation, it works.\n"
     ]
    }
   ],
   "source": [
    "assert all(_) == True\n",
    "print(\"Congratulation, it works.\")"
   ]
  }
 ],
 "metadata": {
  "kernelspec": {
   "display_name": "Python 3 (ipykernel)",
   "language": "python",
   "name": "python3"
  },
  "language_info": {
   "codemirror_mode": {
    "name": "ipython",
    "version": 3
   },
   "file_extension": ".py",
   "mimetype": "text/x-python",
   "name": "python",
   "nbconvert_exporter": "python",
   "pygments_lexer": "ipython3",
   "version": "3.11.1"
  },
  "varInspector": {
   "cols": {
    "lenName": 16,
    "lenType": 16,
    "lenVar": 40
   },
   "kernels_config": {
    "python": {
     "delete_cmd_postfix": "",
     "delete_cmd_prefix": "del ",
     "library": "var_list.py",
     "varRefreshCmd": "print(var_dic_list())"
    },
    "r": {
     "delete_cmd_postfix": ") ",
     "delete_cmd_prefix": "rm(",
     "library": "var_list.r",
     "varRefreshCmd": "cat(var_dic_list()) "
    }
   },
   "types_to_exclude": [
    "module",
    "function",
    "builtin_function_or_method",
    "instance",
    "_Feature"
   ],
   "window_display": false
  }
 },
 "nbformat": 4,
 "nbformat_minor": 5
}
